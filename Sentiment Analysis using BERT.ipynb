{
 "cells": [
  {
   "cell_type": "code",
   "execution_count": 1,
   "metadata": {
    "execution": {
     "iopub.execute_input": "2021-06-11T21:28:46.636493Z",
     "iopub.status.busy": "2021-06-11T21:28:46.635889Z",
     "iopub.status.idle": "2021-06-11T21:28:54.444720Z",
     "shell.execute_reply": "2021-06-11T21:28:54.444071Z",
     "shell.execute_reply.started": "2021-06-11T21:15:41.666541Z"
    },
    "papermill": {
     "duration": 7.84017,
     "end_time": "2021-06-11T21:28:54.444920",
     "exception": false,
     "start_time": "2021-06-11T21:28:46.604750",
     "status": "completed"
    },
    "tags": []
   },
   "outputs": [
    {
     "name": "stdout",
     "output_type": "stream",
     "text": [
      "Collecting beautifulsoup4\r\n",
      "  Downloading beautifulsoup4-4.9.3-py3-none-any.whl (115 kB)\r\n",
      "\u001b[K     |████████████████████████████████| 115 kB 1.3 MB/s \r\n",
      "\u001b[?25hCollecting soupsieve>1.2\r\n",
      "  Downloading soupsieve-2.2.1-py3-none-any.whl (33 kB)\r\n",
      "Installing collected packages: soupsieve, beautifulsoup4\r\n",
      "Successfully installed beautifulsoup4-4.9.3 soupsieve-2.2.1\r\n",
      "\u001b[33mWARNING: You are using pip version 21.0.1; however, version 21.1.2 is available.\r\n",
      "You should consider upgrading via the '/opt/conda/bin/python3.7 -m pip install --upgrade pip' command.\u001b[0m\r\n"
     ]
    }
   ],
   "source": [
    "!pip install beautifulsoup4 "
   ]
  },
  {
   "cell_type": "code",
   "execution_count": 2,
   "metadata": {
    "execution": {
     "iopub.execute_input": "2021-06-11T21:28:54.506965Z",
     "iopub.status.busy": "2021-06-11T21:28:54.506159Z",
     "iopub.status.idle": "2021-06-11T21:28:57.383058Z",
     "shell.execute_reply": "2021-06-11T21:28:57.382101Z",
     "shell.execute_reply.started": "2021-06-11T21:15:52.355748Z"
    },
    "papermill": {
     "duration": 2.910058,
     "end_time": "2021-06-11T21:28:57.383195",
     "exception": false,
     "start_time": "2021-06-11T21:28:54.473137",
     "status": "completed"
    },
    "tags": []
   },
   "outputs": [],
   "source": [
    "import os\n",
    "import re\n",
    "import string\n",
    "import json\n",
    "import emoji\n",
    "import numpy as np\n",
    "import pandas as pd\n",
    "from sklearn import metrics\n",
    "from bs4 import BeautifulSoup\n",
    "import transformers\n",
    "import torch\n",
    "from torch.utils.data import Dataset, DataLoader, RandomSampler, SequentialSampler\n",
    "from transformers import BertTokenizer, AutoTokenizer, BertModel, BertConfig, AutoModel, AdamW\n",
    "import warnings\n",
    "warnings.filterwarnings('ignore')\n",
    "\n",
    "pd.set_option(\"display.max_columns\", None)"
   ]
  },
  {
   "cell_type": "code",
   "execution_count": 3,
   "metadata": {
    "execution": {
     "iopub.execute_input": "2021-06-11T21:28:57.451072Z",
     "iopub.status.busy": "2021-06-11T21:28:57.450551Z",
     "iopub.status.idle": "2021-06-11T21:28:57.614955Z",
     "shell.execute_reply": "2021-06-11T21:28:57.614182Z",
     "shell.execute_reply.started": "2021-06-11T21:15:55.988240Z"
    },
    "papermill": {
     "duration": 0.203876,
     "end_time": "2021-06-11T21:28:57.615094",
     "exception": false,
     "start_time": "2021-06-11T21:28:57.411218",
     "status": "completed"
    },
    "tags": []
   },
   "outputs": [],
   "source": [
    "df_train = pd.read_csv(\"../input/goemotions/data/train.tsv\", sep='\\t', header=None, names=['Text', 'Class', 'ID'])\n",
    "df_dev = pd.read_csv(\"../input/goemotions/data/dev.tsv\", sep='\\t', header=None, names=['Text', 'Class', 'ID'])"
   ]
  },
  {
   "cell_type": "code",
   "execution_count": 4,
   "metadata": {
    "execution": {
     "iopub.execute_input": "2021-06-11T21:28:57.782142Z",
     "iopub.status.busy": "2021-06-11T21:28:57.771978Z",
     "iopub.status.idle": "2021-06-11T21:28:57.816985Z",
     "shell.execute_reply": "2021-06-11T21:28:57.816508Z",
     "shell.execute_reply.started": "2021-06-11T21:15:56.163398Z"
    },
    "papermill": {
     "duration": 0.174667,
     "end_time": "2021-06-11T21:28:57.817119",
     "exception": false,
     "start_time": "2021-06-11T21:28:57.642452",
     "status": "completed"
    },
    "tags": []
   },
   "outputs": [],
   "source": [
    "df_train['List of classes'] = df_train['Class'].apply(lambda x: x.split(','))\n",
    "df_train['Len of classes'] = df_train['List of classes'].apply(lambda x: len(x))\n",
    "df_dev['List of classes'] = df_dev['Class'].apply(lambda x: x.split(','))\n",
    "df_dev['Len of classes'] = df_dev['List of classes'].apply(lambda x: len(x))"
   ]
  },
  {
   "cell_type": "code",
   "execution_count": 5,
   "metadata": {
    "execution": {
     "iopub.execute_input": "2021-06-11T21:28:57.874789Z",
     "iopub.status.busy": "2021-06-11T21:28:57.874172Z",
     "iopub.status.idle": "2021-06-11T21:28:57.884175Z",
     "shell.execute_reply": "2021-06-11T21:28:57.883775Z",
     "shell.execute_reply.started": "2021-06-11T21:15:56.319041Z"
    },
    "papermill": {
     "duration": 0.040077,
     "end_time": "2021-06-11T21:28:57.884313",
     "exception": false,
     "start_time": "2021-06-11T21:28:57.844236",
     "status": "completed"
    },
    "tags": []
   },
   "outputs": [],
   "source": [
    "with open('../input/goemotions/data/ekman_mapping.json') as file:\n",
    "    ekman_mapping = json.load(file)"
   ]
  },
  {
   "cell_type": "code",
   "execution_count": 6,
   "metadata": {
    "execution": {
     "iopub.execute_input": "2021-06-11T21:28:57.942747Z",
     "iopub.status.busy": "2021-06-11T21:28:57.942113Z",
     "iopub.status.idle": "2021-06-11T21:28:57.951746Z",
     "shell.execute_reply": "2021-06-11T21:28:57.951163Z",
     "shell.execute_reply.started": "2021-06-11T21:15:56.334832Z"
    },
    "papermill": {
     "duration": 0.040091,
     "end_time": "2021-06-11T21:28:57.951872",
     "exception": false,
     "start_time": "2021-06-11T21:28:57.911781",
     "status": "completed"
    },
    "tags": []
   },
   "outputs": [
    {
     "name": "stdout",
     "output_type": "stream",
     "text": [
      "['admiration', 'amusement', 'anger', 'annoyance', 'approval', 'caring', 'confusion', 'curiosity', 'desire', 'disappointment', 'disapproval', 'disgust', 'embarrassment', 'excitement', 'fear', 'gratitude', 'grief', 'joy', 'love', 'nervousness', 'optimism', 'pride', 'realization', 'relief', 'remorse', 'sadness', 'surprise', 'neutral']\n"
     ]
    }
   ],
   "source": [
    "emotion_file = open(\"../input/goemotions/data/emotions.txt\", \"r\")\n",
    "emotion_list = emotion_file.read()\n",
    "emotion_list = emotion_list.split(\"\\n\")\n",
    "print(emotion_list)"
   ]
  },
  {
   "cell_type": "code",
   "execution_count": 7,
   "metadata": {
    "execution": {
     "iopub.execute_input": "2021-06-11T21:28:58.010519Z",
     "iopub.status.busy": "2021-06-11T21:28:58.009807Z",
     "iopub.status.idle": "2021-06-11T21:28:58.012731Z",
     "shell.execute_reply": "2021-06-11T21:28:58.012333Z",
     "shell.execute_reply.started": "2021-06-11T21:15:56.347670Z"
    },
    "papermill": {
     "duration": 0.033906,
     "end_time": "2021-06-11T21:28:58.012842",
     "exception": false,
     "start_time": "2021-06-11T21:28:57.978936",
     "status": "completed"
    },
    "tags": []
   },
   "outputs": [],
   "source": [
    "def idx2class(idx_list):\n",
    "    arr = []\n",
    "    for i in idx_list:\n",
    "        arr.append(emotion_list[int(i)])\n",
    "    return arr"
   ]
  },
  {
   "cell_type": "code",
   "execution_count": 8,
   "metadata": {
    "execution": {
     "iopub.execute_input": "2021-06-11T21:28:58.091842Z",
     "iopub.status.busy": "2021-06-11T21:28:58.076467Z",
     "iopub.status.idle": "2021-06-11T21:28:58.112991Z",
     "shell.execute_reply": "2021-06-11T21:28:58.112560Z",
     "shell.execute_reply.started": "2021-06-11T21:15:56.357305Z"
    },
    "papermill": {
     "duration": 0.073552,
     "end_time": "2021-06-11T21:28:58.113125",
     "exception": false,
     "start_time": "2021-06-11T21:28:58.039573",
     "status": "completed"
    },
    "tags": []
   },
   "outputs": [],
   "source": [
    "df_train['Emotions'] = df_train['List of classes'].apply(idx2class)\n",
    "df_dev['Emotions'] = df_dev['List of classes'].apply(idx2class)"
   ]
  },
  {
   "cell_type": "code",
   "execution_count": 9,
   "metadata": {
    "execution": {
     "iopub.execute_input": "2021-06-11T21:28:58.173803Z",
     "iopub.status.busy": "2021-06-11T21:28:58.173044Z",
     "iopub.status.idle": "2021-06-11T21:28:58.175894Z",
     "shell.execute_reply": "2021-06-11T21:28:58.175486Z",
     "shell.execute_reply.started": "2021-06-11T21:15:56.589192Z"
    },
    "papermill": {
     "duration": 0.035899,
     "end_time": "2021-06-11T21:28:58.176010",
     "exception": false,
     "start_time": "2021-06-11T21:28:58.140111",
     "status": "completed"
    },
    "tags": []
   },
   "outputs": [],
   "source": [
    "def EmotionMapping(emotion_list):\n",
    "    map_list = []\n",
    "    \n",
    "    for i in emotion_list:\n",
    "        if i in ekman_mapping['anger']:\n",
    "            map_list.append('anger')\n",
    "        if i in ekman_mapping['disgust']:\n",
    "            map_list.append('disgust')\n",
    "        if i in ekman_mapping['fear']:\n",
    "            map_list.append('fear')\n",
    "        if i in ekman_mapping['joy']:\n",
    "            map_list.append('joy')\n",
    "        if i in ekman_mapping['sadness']:\n",
    "            map_list.append('sadness')\n",
    "        if i in ekman_mapping['surprise']:\n",
    "            map_list.append('surprise')\n",
    "        if i == 'neutral':\n",
    "            map_list.append('neutral')\n",
    "            \n",
    "    return map_list"
   ]
  },
  {
   "cell_type": "code",
   "execution_count": 10,
   "metadata": {
    "execution": {
     "iopub.execute_input": "2021-06-11T21:28:58.384809Z",
     "iopub.status.busy": "2021-06-11T21:28:58.347227Z",
     "iopub.status.idle": "2021-06-11T21:28:58.396229Z",
     "shell.execute_reply": "2021-06-11T21:28:58.395778Z",
     "shell.execute_reply.started": "2021-06-11T21:15:56.618994Z"
    },
    "papermill": {
     "duration": 0.193401,
     "end_time": "2021-06-11T21:28:58.396367",
     "exception": false,
     "start_time": "2021-06-11T21:28:58.202966",
     "status": "completed"
    },
    "tags": []
   },
   "outputs": [],
   "source": [
    "df_train['Mapped Emotions'] = df_train['Emotions'].apply(EmotionMapping)\n",
    "df_dev['Mapped Emotions'] = df_dev['Emotions'].apply(EmotionMapping)"
   ]
  },
  {
   "cell_type": "code",
   "execution_count": 11,
   "metadata": {
    "execution": {
     "iopub.execute_input": "2021-06-11T21:28:58.459301Z",
     "iopub.status.busy": "2021-06-11T21:28:58.458476Z",
     "iopub.status.idle": "2021-06-11T21:28:58.468377Z",
     "shell.execute_reply": "2021-06-11T21:28:58.468783Z",
     "shell.execute_reply.started": "2021-06-11T21:15:56.784865Z"
    },
    "papermill": {
     "duration": 0.045452,
     "end_time": "2021-06-11T21:28:58.468916",
     "exception": false,
     "start_time": "2021-06-11T21:28:58.423464",
     "status": "completed"
    },
    "tags": []
   },
   "outputs": [],
   "source": [
    "df_train['anger'] = np.zeros((len(df_train),1))\n",
    "df_train['disgust'] = np.zeros((len(df_train),1))\n",
    "df_train['fear'] = np.zeros((len(df_train),1))\n",
    "df_train['joy'] = np.zeros((len(df_train),1))\n",
    "df_train['sadness'] = np.zeros((len(df_train),1))\n",
    "df_train['surprise'] = np.zeros((len(df_train),1))\n",
    "df_train['neutral'] = np.zeros((len(df_train),1))\n",
    "\n",
    "df_dev['anger'] = np.zeros((len(df_dev),1))\n",
    "df_dev['disgust'] = np.zeros((len(df_dev),1))\n",
    "df_dev['fear'] = np.zeros((len(df_dev),1))\n",
    "df_dev['joy'] = np.zeros((len(df_dev),1))\n",
    "df_dev['sadness'] = np.zeros((len(df_dev),1))\n",
    "df_dev['surprise'] = np.zeros((len(df_dev),1))\n",
    "df_dev['neutral'] = np.zeros((len(df_dev),1))"
   ]
  },
  {
   "cell_type": "code",
   "execution_count": 12,
   "metadata": {
    "execution": {
     "iopub.execute_input": "2021-06-11T21:28:58.528647Z",
     "iopub.status.busy": "2021-06-11T21:28:58.527829Z",
     "iopub.status.idle": "2021-06-11T21:28:58.705654Z",
     "shell.execute_reply": "2021-06-11T21:28:58.705147Z",
     "shell.execute_reply.started": "2021-06-11T21:15:56.822194Z"
    },
    "papermill": {
     "duration": 0.209431,
     "end_time": "2021-06-11T21:28:58.705793",
     "exception": false,
     "start_time": "2021-06-11T21:28:58.496362",
     "status": "completed"
    },
    "tags": []
   },
   "outputs": [],
   "source": [
    "for i in ['anger', 'disgust', 'fear', 'joy', 'sadness', 'surprise','neutral']:\n",
    "    df_train[i] = df_train['Mapped Emotions'].apply(lambda x: 1 if i in x else 0)\n",
    "    df_dev[i] = df_dev['Mapped Emotions'].apply(lambda x: 1 if i in x else 0)"
   ]
  },
  {
   "cell_type": "code",
   "execution_count": 13,
   "metadata": {
    "execution": {
     "iopub.execute_input": "2021-06-11T21:28:58.767550Z",
     "iopub.status.busy": "2021-06-11T21:28:58.766999Z",
     "iopub.status.idle": "2021-06-11T21:28:58.787655Z",
     "shell.execute_reply": "2021-06-11T21:28:58.788053Z",
     "shell.execute_reply.started": "2021-06-11T21:15:57.128141Z"
    },
    "papermill": {
     "duration": 0.054517,
     "end_time": "2021-06-11T21:28:58.788188",
     "exception": false,
     "start_time": "2021-06-11T21:28:58.733671",
     "status": "completed"
    },
    "tags": []
   },
   "outputs": [
    {
     "data": {
      "text/html": [
       "<div>\n",
       "<style scoped>\n",
       "    .dataframe tbody tr th:only-of-type {\n",
       "        vertical-align: middle;\n",
       "    }\n",
       "\n",
       "    .dataframe tbody tr th {\n",
       "        vertical-align: top;\n",
       "    }\n",
       "\n",
       "    .dataframe thead th {\n",
       "        text-align: right;\n",
       "    }\n",
       "</style>\n",
       "<table border=\"1\" class=\"dataframe\">\n",
       "  <thead>\n",
       "    <tr style=\"text-align: right;\">\n",
       "      <th></th>\n",
       "      <th>Text</th>\n",
       "      <th>Class</th>\n",
       "      <th>ID</th>\n",
       "      <th>List of classes</th>\n",
       "      <th>Len of classes</th>\n",
       "      <th>Emotions</th>\n",
       "      <th>Mapped Emotions</th>\n",
       "      <th>anger</th>\n",
       "      <th>disgust</th>\n",
       "      <th>fear</th>\n",
       "      <th>joy</th>\n",
       "      <th>sadness</th>\n",
       "      <th>surprise</th>\n",
       "      <th>neutral</th>\n",
       "    </tr>\n",
       "  </thead>\n",
       "  <tbody>\n",
       "    <tr>\n",
       "      <th>0</th>\n",
       "      <td>My favourite food is anything I didn't have to...</td>\n",
       "      <td>27</td>\n",
       "      <td>eebbqej</td>\n",
       "      <td>[27]</td>\n",
       "      <td>1</td>\n",
       "      <td>[neutral]</td>\n",
       "      <td>[neutral]</td>\n",
       "      <td>0</td>\n",
       "      <td>0</td>\n",
       "      <td>0</td>\n",
       "      <td>0</td>\n",
       "      <td>0</td>\n",
       "      <td>0</td>\n",
       "      <td>1</td>\n",
       "    </tr>\n",
       "    <tr>\n",
       "      <th>1</th>\n",
       "      <td>Now if he does off himself, everyone will thin...</td>\n",
       "      <td>27</td>\n",
       "      <td>ed00q6i</td>\n",
       "      <td>[27]</td>\n",
       "      <td>1</td>\n",
       "      <td>[neutral]</td>\n",
       "      <td>[neutral]</td>\n",
       "      <td>0</td>\n",
       "      <td>0</td>\n",
       "      <td>0</td>\n",
       "      <td>0</td>\n",
       "      <td>0</td>\n",
       "      <td>0</td>\n",
       "      <td>1</td>\n",
       "    </tr>\n",
       "    <tr>\n",
       "      <th>2</th>\n",
       "      <td>WHY THE FUCK IS BAYLESS ISOING</td>\n",
       "      <td>2</td>\n",
       "      <td>eezlygj</td>\n",
       "      <td>[2]</td>\n",
       "      <td>1</td>\n",
       "      <td>[anger]</td>\n",
       "      <td>[anger]</td>\n",
       "      <td>1</td>\n",
       "      <td>0</td>\n",
       "      <td>0</td>\n",
       "      <td>0</td>\n",
       "      <td>0</td>\n",
       "      <td>0</td>\n",
       "      <td>0</td>\n",
       "    </tr>\n",
       "    <tr>\n",
       "      <th>3</th>\n",
       "      <td>To make her feel threatened</td>\n",
       "      <td>14</td>\n",
       "      <td>ed7ypvh</td>\n",
       "      <td>[14]</td>\n",
       "      <td>1</td>\n",
       "      <td>[fear]</td>\n",
       "      <td>[fear]</td>\n",
       "      <td>0</td>\n",
       "      <td>0</td>\n",
       "      <td>1</td>\n",
       "      <td>0</td>\n",
       "      <td>0</td>\n",
       "      <td>0</td>\n",
       "      <td>0</td>\n",
       "    </tr>\n",
       "    <tr>\n",
       "      <th>4</th>\n",
       "      <td>Dirty Southern Wankers</td>\n",
       "      <td>3</td>\n",
       "      <td>ed0bdzj</td>\n",
       "      <td>[3]</td>\n",
       "      <td>1</td>\n",
       "      <td>[annoyance]</td>\n",
       "      <td>[anger]</td>\n",
       "      <td>1</td>\n",
       "      <td>0</td>\n",
       "      <td>0</td>\n",
       "      <td>0</td>\n",
       "      <td>0</td>\n",
       "      <td>0</td>\n",
       "      <td>0</td>\n",
       "    </tr>\n",
       "  </tbody>\n",
       "</table>\n",
       "</div>"
      ],
      "text/plain": [
       "                                                Text Class       ID  \\\n",
       "0  My favourite food is anything I didn't have to...    27  eebbqej   \n",
       "1  Now if he does off himself, everyone will thin...    27  ed00q6i   \n",
       "2                     WHY THE FUCK IS BAYLESS ISOING     2  eezlygj   \n",
       "3                        To make her feel threatened    14  ed7ypvh   \n",
       "4                             Dirty Southern Wankers     3  ed0bdzj   \n",
       "\n",
       "  List of classes  Len of classes     Emotions Mapped Emotions  anger  \\\n",
       "0            [27]               1    [neutral]       [neutral]      0   \n",
       "1            [27]               1    [neutral]       [neutral]      0   \n",
       "2             [2]               1      [anger]         [anger]      1   \n",
       "3            [14]               1       [fear]          [fear]      0   \n",
       "4             [3]               1  [annoyance]         [anger]      1   \n",
       "\n",
       "   disgust  fear  joy  sadness  surprise  neutral  \n",
       "0        0     0    0        0         0        1  \n",
       "1        0     0    0        0         0        1  \n",
       "2        0     0    0        0         0        0  \n",
       "3        0     1    0        0         0        0  \n",
       "4        0     0    0        0         0        0  "
      ]
     },
     "execution_count": 13,
     "metadata": {},
     "output_type": "execute_result"
    }
   ],
   "source": [
    "df_train.head()"
   ]
  },
  {
   "cell_type": "code",
   "execution_count": 14,
   "metadata": {
    "execution": {
     "iopub.execute_input": "2021-06-11T21:28:58.861097Z",
     "iopub.status.busy": "2021-06-11T21:28:58.860190Z",
     "iopub.status.idle": "2021-06-11T21:28:58.864035Z",
     "shell.execute_reply": "2021-06-11T21:28:58.863638Z",
     "shell.execute_reply.started": "2021-06-11T21:15:57.164889Z"
    },
    "papermill": {
     "duration": 0.04847,
     "end_time": "2021-06-11T21:28:58.864147",
     "exception": false,
     "start_time": "2021-06-11T21:28:58.815677",
     "status": "completed"
    },
    "tags": []
   },
   "outputs": [
    {
     "data": {
      "text/html": [
       "<div>\n",
       "<style scoped>\n",
       "    .dataframe tbody tr th:only-of-type {\n",
       "        vertical-align: middle;\n",
       "    }\n",
       "\n",
       "    .dataframe tbody tr th {\n",
       "        vertical-align: top;\n",
       "    }\n",
       "\n",
       "    .dataframe thead th {\n",
       "        text-align: right;\n",
       "    }\n",
       "</style>\n",
       "<table border=\"1\" class=\"dataframe\">\n",
       "  <thead>\n",
       "    <tr style=\"text-align: right;\">\n",
       "      <th></th>\n",
       "      <th>Text</th>\n",
       "      <th>Class</th>\n",
       "      <th>ID</th>\n",
       "      <th>List of classes</th>\n",
       "      <th>Len of classes</th>\n",
       "      <th>Emotions</th>\n",
       "      <th>Mapped Emotions</th>\n",
       "      <th>anger</th>\n",
       "      <th>disgust</th>\n",
       "      <th>fear</th>\n",
       "      <th>joy</th>\n",
       "      <th>sadness</th>\n",
       "      <th>surprise</th>\n",
       "      <th>neutral</th>\n",
       "    </tr>\n",
       "  </thead>\n",
       "  <tbody>\n",
       "    <tr>\n",
       "      <th>0</th>\n",
       "      <td>Is this in New Orleans?? I really feel like th...</td>\n",
       "      <td>27</td>\n",
       "      <td>edgurhb</td>\n",
       "      <td>[27]</td>\n",
       "      <td>1</td>\n",
       "      <td>[neutral]</td>\n",
       "      <td>[neutral]</td>\n",
       "      <td>0</td>\n",
       "      <td>0</td>\n",
       "      <td>0</td>\n",
       "      <td>0</td>\n",
       "      <td>0</td>\n",
       "      <td>0</td>\n",
       "      <td>1</td>\n",
       "    </tr>\n",
       "    <tr>\n",
       "      <th>1</th>\n",
       "      <td>You know the answer man, you are programmed to...</td>\n",
       "      <td>4,27</td>\n",
       "      <td>ee84bjg</td>\n",
       "      <td>[4, 27]</td>\n",
       "      <td>2</td>\n",
       "      <td>[approval, neutral]</td>\n",
       "      <td>[joy, neutral]</td>\n",
       "      <td>0</td>\n",
       "      <td>0</td>\n",
       "      <td>0</td>\n",
       "      <td>1</td>\n",
       "      <td>0</td>\n",
       "      <td>0</td>\n",
       "      <td>1</td>\n",
       "    </tr>\n",
       "    <tr>\n",
       "      <th>2</th>\n",
       "      <td>I've never been this sad in my life!</td>\n",
       "      <td>25</td>\n",
       "      <td>edcu99z</td>\n",
       "      <td>[25]</td>\n",
       "      <td>1</td>\n",
       "      <td>[sadness]</td>\n",
       "      <td>[sadness]</td>\n",
       "      <td>0</td>\n",
       "      <td>0</td>\n",
       "      <td>0</td>\n",
       "      <td>0</td>\n",
       "      <td>1</td>\n",
       "      <td>0</td>\n",
       "      <td>0</td>\n",
       "    </tr>\n",
       "    <tr>\n",
       "      <th>3</th>\n",
       "      <td>The economy is heavily controlled and subsidiz...</td>\n",
       "      <td>4,27</td>\n",
       "      <td>edc32e2</td>\n",
       "      <td>[4, 27]</td>\n",
       "      <td>2</td>\n",
       "      <td>[approval, neutral]</td>\n",
       "      <td>[joy, neutral]</td>\n",
       "      <td>0</td>\n",
       "      <td>0</td>\n",
       "      <td>0</td>\n",
       "      <td>1</td>\n",
       "      <td>0</td>\n",
       "      <td>0</td>\n",
       "      <td>1</td>\n",
       "    </tr>\n",
       "    <tr>\n",
       "      <th>4</th>\n",
       "      <td>He could have easily taken a real camera from ...</td>\n",
       "      <td>20</td>\n",
       "      <td>eepig6r</td>\n",
       "      <td>[20]</td>\n",
       "      <td>1</td>\n",
       "      <td>[optimism]</td>\n",
       "      <td>[joy]</td>\n",
       "      <td>0</td>\n",
       "      <td>0</td>\n",
       "      <td>0</td>\n",
       "      <td>1</td>\n",
       "      <td>0</td>\n",
       "      <td>0</td>\n",
       "      <td>0</td>\n",
       "    </tr>\n",
       "  </tbody>\n",
       "</table>\n",
       "</div>"
      ],
      "text/plain": [
       "                                                Text Class       ID  \\\n",
       "0  Is this in New Orleans?? I really feel like th...    27  edgurhb   \n",
       "1  You know the answer man, you are programmed to...  4,27  ee84bjg   \n",
       "2               I've never been this sad in my life!    25  edcu99z   \n",
       "3  The economy is heavily controlled and subsidiz...  4,27  edc32e2   \n",
       "4  He could have easily taken a real camera from ...    20  eepig6r   \n",
       "\n",
       "  List of classes  Len of classes             Emotions Mapped Emotions  anger  \\\n",
       "0            [27]               1            [neutral]       [neutral]      0   \n",
       "1         [4, 27]               2  [approval, neutral]  [joy, neutral]      0   \n",
       "2            [25]               1            [sadness]       [sadness]      0   \n",
       "3         [4, 27]               2  [approval, neutral]  [joy, neutral]      0   \n",
       "4            [20]               1           [optimism]           [joy]      0   \n",
       "\n",
       "   disgust  fear  joy  sadness  surprise  neutral  \n",
       "0        0     0    0        0         0        1  \n",
       "1        0     0    1        0         0        1  \n",
       "2        0     0    0        1         0        0  \n",
       "3        0     0    1        0         0        1  \n",
       "4        0     0    1        0         0        0  "
      ]
     },
     "execution_count": 14,
     "metadata": {},
     "output_type": "execute_result"
    }
   ],
   "source": [
    "df_dev.head()"
   ]
  },
  {
   "cell_type": "code",
   "execution_count": 15,
   "metadata": {
    "execution": {
     "iopub.execute_input": "2021-06-11T21:28:58.925691Z",
     "iopub.status.busy": "2021-06-11T21:28:58.925066Z",
     "iopub.status.idle": "2021-06-11T21:28:58.978393Z",
     "shell.execute_reply": "2021-06-11T21:28:58.977430Z",
     "shell.execute_reply.started": "2021-06-11T21:15:57.192562Z"
    },
    "papermill": {
     "duration": 0.086563,
     "end_time": "2021-06-11T21:28:58.978529",
     "exception": false,
     "start_time": "2021-06-11T21:28:58.891966",
     "status": "completed"
    },
    "tags": []
   },
   "outputs": [],
   "source": [
    "df_train.drop(df_train[df_train['neutral'] == 1].index, inplace=True)\n",
    "df_dev.drop(df_dev[df_dev['neutral'] == 1].index, inplace=True)\n",
    "df_train.drop(df_train[df_train['disgust'] == 1].index, inplace=True)\n",
    "df_dev.drop(df_dev[df_dev['disgust'] == 1].index, inplace=True)"
   ]
  },
  {
   "cell_type": "code",
   "execution_count": 16,
   "metadata": {
    "execution": {
     "iopub.execute_input": "2021-06-11T21:28:59.043617Z",
     "iopub.status.busy": "2021-06-11T21:28:59.042881Z",
     "iopub.status.idle": "2021-06-11T21:28:59.045793Z",
     "shell.execute_reply": "2021-06-11T21:28:59.045370Z",
     "shell.execute_reply.started": "2021-06-11T21:15:57.254139Z"
    },
    "papermill": {
     "duration": 0.039512,
     "end_time": "2021-06-11T21:28:59.045913",
     "exception": false,
     "start_time": "2021-06-11T21:28:59.006401",
     "status": "completed"
    },
    "tags": []
   },
   "outputs": [],
   "source": [
    "df_train.drop(['Class', 'List of classes', 'Len of classes', 'Emotions', 'Mapped Emotions', 'neutral', 'disgust'], axis=1, inplace=True)\n",
    "df_dev.drop(['Class', 'List of classes', 'Len of classes', 'Emotions', 'Mapped Emotions', 'neutral', 'disgust'], axis=1, inplace=True)"
   ]
  },
  {
   "cell_type": "code",
   "execution_count": 17,
   "metadata": {
    "execution": {
     "iopub.execute_input": "2021-06-11T21:28:59.125320Z",
     "iopub.status.busy": "2021-06-11T21:28:59.124358Z",
     "iopub.status.idle": "2021-06-11T21:28:59.126597Z",
     "shell.execute_reply": "2021-06-11T21:28:59.126961Z",
     "shell.execute_reply.started": "2021-06-11T21:15:57.268271Z"
    },
    "papermill": {
     "duration": 0.053282,
     "end_time": "2021-06-11T21:28:59.127109",
     "exception": false,
     "start_time": "2021-06-11T21:28:59.073827",
     "status": "completed"
    },
    "tags": []
   },
   "outputs": [],
   "source": [
    "contraction_mapping = {\"ain't\": \"is not\", \"aren't\": \"are not\",\"can't\": \"cannot\", \"'cause\": \"because\", \"could've\": \"could have\", \"couldn't\": \"could not\", \n",
    "                       \"didn't\": \"did not\",  \"doesn't\": \"does not\", \"don't\": \"do not\", \"hadn't\": \"had not\", \"hasn't\": \"has not\", \"haven't\": \"have not\", \n",
    "                       \"he'd\": \"he would\",\"he'll\": \"he will\", \"he's\": \"he is\", \"how'd\": \"how did\", \"how'd'y\": \"how do you\", \"how'll\": \"how will\", \n",
    "                       \"how's\": \"how is\",  \"I'd\": \"I would\", \"I'd've\": \"I would have\", \"I'll\": \"I will\", \"I'll've\": \"I will have\",\"I'm\": \"I am\",\n",
    "                       \"I've\": \"I have\", \"i'd\": \"i would\", \"i'd've\": \"i would have\", \"i'll\": \"i will\",  \"i'll've\": \"i will have\",\"i'm\": \"i am\", \n",
    "                       \"i've\": \"i have\", \"isn't\": \"is not\", \"it'd\": \"it would\", \"it'd've\": \"it would have\", \"it'll\": \"it will\", \"it'll've\": \"it will have\",\n",
    "                       \"it's\": \"it is\", \"let's\": \"let us\", \"ma'am\": \"madam\", \"mayn't\": \"may not\", \"might've\": \"might have\",\"mightn't\": \"might not\",\n",
    "                       \"mightn't've\": \"might not have\", \"must've\": \"must have\", \"mustn't\": \"must not\", \"mustn't've\": \"must not have\", \"needn't\": \"need not\", \n",
    "                       \"needn't've\": \"need not have\",\"o'clock\": \"of the clock\", \"oughtn't\": \"ought not\", \"oughtn't've\": \"ought not have\", \"shan't\": \"shall not\",\n",
    "                       \"sha'n't\": \"shall not\", \"shan't've\": \"shall not have\", \"she'd\": \"she would\", \"she'd've\": \"she would have\", \"she'll\": \"she will\", \n",
    "                       \"she'll've\": \"she will have\", \"she's\": \"she is\", \"should've\": \"should have\", \"shouldn't\": \"should not\", \"shouldn't've\": \"should not have\",\n",
    "                       \"so've\": \"so have\",\"so's\": \"so as\", \"this's\": \"this is\",\"that'd\": \"that would\", \"that'd've\": \"that would have\", \"that's\": \"that is\",\n",
    "                       \"there'd\": \"there would\", \"there'd've\": \"there would have\", \"there's\": \"there is\", \"here's\": \"here is\",\"they'd\": \"they would\",\n",
    "                       \"they'd've\": \"they would have\", \"they'll\": \"they will\", \"they'll've\": \"they will have\", \"they're\": \"they are\", \"they've\": \"they have\",\n",
    "                       \"to've\": \"to have\", \"wasn't\": \"was not\", \"we'd\": \"we would\", \"we'd've\": \"we would have\", \"we'll\": \"we will\", \"we'll've\": \"we will have\",\n",
    "                       \"we're\": \"we are\", \"we've\": \"we have\", \"weren't\": \"were not\", \"what'll\": \"what will\", \"what'll've\": \"what will have\", \n",
    "                       \"what're\": \"what are\",  \"what's\": \"what is\", \"what've\": \"what have\", \"when's\": \"when is\", \"when've\": \"when have\", \"where'd\": \"where did\",\n",
    "                       \"where's\": \"where is\", \"where've\": \"where have\", \"who'll\": \"who will\", \"who'll've\": \"who will have\", \"who's\": \"who is\", \n",
    "                       \"who've\": \"who have\", \"why's\": \"why is\", \"why've\": \"why have\", \"will've\": \"will have\", \"won't\": \"will not\", \"won't've\": \"will not have\", \n",
    "                       \"would've\": \"would have\", \"wouldn't\": \"would not\", \"wouldn't've\": \"would not have\", \"y'all\": \"you all\", \"y'all'd\": \"you all would\",\n",
    "                       \"y'all'd've\": \"you all would have\",\"y'all're\": \"you all are\",\"y'all've\": \"you all have\",\"you'd\": \"you would\", \"you'd've\": \"you would have\",\n",
    "                       \"you'll\": \"you will\", \"you'll've\": \"you will have\", \"you're\": \"you are\", \"you've\": \"you have\", 'u.s':'america', 'e.g':'for example'}\n",
    "\n",
    "punct = [',', '.', '\"', ':', ')', '(', '-', '!', '?', '|', ';', \"'\", '$', '&', '/', '[', ']', '>', '%', '=', '#', '*', '+', '\\\\', '•',  '~', '@', '£', \n",
    " '·', '_', '{', '}', '©', '^', '®', '`',  '<', '→', '°', '€', '™', '›',  '♥', '←', '×', '§', '″', '′', 'Â', '█', '½', 'à', '…', \n",
    " '“', '★', '”', '–', '●', 'â', '►', '−', '¢', '²', '¬', '░', '¶', '↑', '±', '¿', '▾', '═', '¦', '║', '―', '¥', '▓', '—', '‹', '─', \n",
    " '▒', '：', '¼', '⊕', '▼', '▪', '†', '■', '’', '▀', '¨', '▄', '♫', '☆', 'é', '¯', '♦', '¤', '▲', 'è', '¸', '¾', 'Ã', '⋅', '‘', '∞', \n",
    " '∙', '）', '↓', '、', '│', '（', '»', '，', '♪', '╩', '╚', '³', '・', '╦', '╣', '╔', '╗', '▬', '❤', 'ï', 'Ø', '¹', '≤', '‡', '√', ]\n",
    "\n",
    "punct_mapping = {\"‘\": \"'\", \"₹\": \"e\", \"´\": \"'\", \"°\": \"\", \"€\": \"e\", \"™\": \"tm\", \"√\": \" sqrt \", \"×\": \"x\", \"²\": \"2\", \"—\": \"-\", \"–\": \"-\", \"’\": \"'\", \"_\": \"-\",\n",
    "                 \"`\": \"'\", '“': '\"', '”': '\"', '“': '\"', \"£\": \"e\", '∞': 'infinity', 'θ': 'theta', '÷': '/', 'α': 'alpha', '•': '.', 'à': 'a', '−': '-', \n",
    "                 'β': 'beta', '∅': '', '³': '3', 'π': 'pi', '!':' '}\n",
    "\n",
    "mispell_dict = {'colour': 'color', 'centre': 'center', 'favourite': 'favorite', 'travelling': 'traveling', 'counselling': 'counseling', 'theatre': 'theater',\n",
    "                'cancelled': 'canceled', 'labour': 'labor', 'organisation': 'organization', 'wwii': 'world war 2', 'citicise': 'criticize', 'youtu ': 'youtube ',\n",
    "                'Qoura': 'Quora', 'sallary': 'salary', 'Whta': 'What', 'narcisist': 'narcissist', 'howdo': 'how do', 'whatare': 'what are', 'howcan': 'how can',\n",
    "                'howmuch': 'how much', 'howmany': 'how many', 'whydo': 'why do', 'doI': 'do I', 'theBest': 'the best', 'howdoes': 'how does', \n",
    "                'mastrubation': 'masturbation', 'mastrubate': 'masturbate', \"mastrubating\": 'masturbating', 'pennis': 'penis', 'Etherium': 'Ethereum', \n",
    "                'narcissit': 'narcissist', 'bigdata': 'big data', '2k17': '2017', '2k18': '2018', 'qouta': 'quota', 'exboyfriend': 'ex boyfriend', \n",
    "                'airhostess': 'air hostess', \"whst\": 'what', 'watsapp': 'whatsapp', 'demonitisation': 'demonetization', 'demonitization': 'demonetization',\n",
    "                'demonetisation': 'demonetization'}"
   ]
  },
  {
   "cell_type": "code",
   "execution_count": 18,
   "metadata": {
    "execution": {
     "iopub.execute_input": "2021-06-11T21:28:59.196743Z",
     "iopub.status.busy": "2021-06-11T21:28:59.196011Z",
     "iopub.status.idle": "2021-06-11T21:28:59.198619Z",
     "shell.execute_reply": "2021-06-11T21:28:59.199045Z",
     "shell.execute_reply.started": "2021-06-11T21:15:57.300598Z"
    },
    "papermill": {
     "duration": 0.04434,
     "end_time": "2021-06-11T21:28:59.199188",
     "exception": false,
     "start_time": "2021-06-11T21:28:59.154848",
     "status": "completed"
    },
    "tags": []
   },
   "outputs": [],
   "source": [
    "def clean_text(text):\n",
    "    '''Clean emoji, Make text lowercase, remove text in square brackets,remove links,remove punctuation\n",
    "    and remove words containing numbers.'''\n",
    "    text = emoji.demojize(text)\n",
    "    text = re.sub(r'\\:(.*?)\\:','',text)\n",
    "    text = str(text).lower()    #Making Text Lowercase\n",
    "    text = re.sub('\\[.*?\\]', '', text)\n",
    "    #The next 2 lines remove html text\n",
    "    text = BeautifulSoup(text, 'lxml').get_text()\n",
    "    text = re.sub('https?://\\S+|www\\.\\S+', '', text)\n",
    "    text = re.sub('<.*?>+', '', text)\n",
    "    text = re.sub('\\n', '', text)\n",
    "    text = re.sub('\\w*\\d\\w*', '', text)\n",
    "    # replacing everything with space except (a-z, A-Z, \".\", \"?\", \"!\", \",\", \"'\")\n",
    "    text = re.sub(r\"[^a-zA-Z?.!,¿']+\", \" \", text)\n",
    "    return text\n",
    "\n",
    "def clean_contractions(text, mapping):\n",
    "    '''Clean contraction using contraction mapping'''    \n",
    "    specials = [\"’\", \"‘\", \"´\", \"`\"]\n",
    "    for s in specials:\n",
    "        text = text.replace(s, \"'\")\n",
    "    for word in mapping.keys():\n",
    "        if \"\"+word+\"\" in text:\n",
    "            text = text.replace(\"\"+word+\"\", \"\"+mapping[word]+\"\")\n",
    "    #Remove Punctuations\n",
    "    text = re.sub('[%s]' % re.escape(string.punctuation), '', text)\n",
    "    # creating a space between a word and the punctuation following it\n",
    "    # eg: \"he is a boy.\" => \"he is a boy .\"\n",
    "    text = re.sub(r\"([?.!,¿])\", r\" \\1 \", text)\n",
    "    text = re.sub(r'[\" \"]+', \" \", text)\n",
    "    return text\n",
    "\n",
    "def clean_special_chars(text, punct, mapping):\n",
    "    '''Cleans special characters present(if any)'''   \n",
    "    for p in mapping:\n",
    "        text = text.replace(p, mapping[p])\n",
    "    \n",
    "    for p in punct:\n",
    "        text = text.replace(p, f' {p} ')\n",
    "    \n",
    "    specials = {'\\u200b': ' ', '…': ' ... ', '\\ufeff': '', 'करना': '', 'है': ''}  \n",
    "    for s in specials:\n",
    "        text = text.replace(s, specials[s])\n",
    "    \n",
    "    return text\n",
    "\n",
    "def correct_spelling(x, dic):\n",
    "    '''Corrects common spelling errors'''   \n",
    "    for word in dic.keys():\n",
    "        x = x.replace(word, dic[word])\n",
    "    return x\n",
    "\n",
    "def remove_space(text):\n",
    "    '''Removes awkward spaces'''   \n",
    "    #Removes awkward spaces \n",
    "    text = text.strip()\n",
    "    text = text.split()\n",
    "    return \" \".join(text)\n",
    "\n",
    "def text_preprocessing_pipeline(text):\n",
    "    '''Cleaning and parsing the text.'''\n",
    "    text = clean_text(text)\n",
    "    text = clean_contractions(text, contraction_mapping)\n",
    "    text = clean_special_chars(text, punct, punct_mapping)\n",
    "    text = correct_spelling(text, mispell_dict)\n",
    "    text = remove_space(text)\n",
    "    return text"
   ]
  },
  {
   "cell_type": "code",
   "execution_count": 19,
   "metadata": {
    "execution": {
     "iopub.execute_input": "2021-06-11T21:28:59.258238Z",
     "iopub.status.busy": "2021-06-11T21:28:59.257548Z",
     "iopub.status.idle": "2021-06-11T21:28:59.260402Z",
     "shell.execute_reply": "2021-06-11T21:28:59.259895Z",
     "shell.execute_reply.started": "2021-06-11T21:15:57.323244Z"
    },
    "papermill": {
     "duration": 0.033697,
     "end_time": "2021-06-11T21:28:59.260511",
     "exception": false,
     "start_time": "2021-06-11T21:28:59.226814",
     "status": "completed"
    },
    "tags": []
   },
   "outputs": [],
   "source": [
    "# df_train['Text'] = df_train['Text'].apply(text_preprocessing_pipeline)\n",
    "# df_dev['Text'] = df_dev['Text'].apply(text_preprocessing_pipeline)"
   ]
  },
  {
   "cell_type": "code",
   "execution_count": 20,
   "metadata": {
    "execution": {
     "iopub.execute_input": "2021-06-11T21:28:59.322211Z",
     "iopub.status.busy": "2021-06-11T21:28:59.321692Z",
     "iopub.status.idle": "2021-06-11T21:28:59.606580Z",
     "shell.execute_reply": "2021-06-11T21:28:59.606074Z",
     "shell.execute_reply.started": "2021-06-11T21:15:57.338776Z"
    },
    "papermill": {
     "duration": 0.317198,
     "end_time": "2021-06-11T21:28:59.606719",
     "exception": false,
     "start_time": "2021-06-11T21:28:59.289521",
     "status": "completed"
    },
    "tags": []
   },
   "outputs": [],
   "source": [
    "df_train.reset_index(drop=True).to_csv(\"train.csv\", index=False)\n",
    "df_dev.reset_index(drop=True).to_csv(\"val.csv\", index=False)"
   ]
  },
  {
   "cell_type": "code",
   "execution_count": 21,
   "metadata": {
    "execution": {
     "iopub.execute_input": "2021-06-11T21:28:59.671880Z",
     "iopub.status.busy": "2021-06-11T21:28:59.671049Z",
     "iopub.status.idle": "2021-06-11T21:28:59.674620Z",
     "shell.execute_reply": "2021-06-11T21:28:59.675113Z",
     "shell.execute_reply.started": "2021-06-11T21:15:57.851482Z"
    },
    "papermill": {
     "duration": 0.040494,
     "end_time": "2021-06-11T21:28:59.675251",
     "exception": false,
     "start_time": "2021-06-11T21:28:59.634757",
     "status": "completed"
    },
    "tags": []
   },
   "outputs": [],
   "source": [
    "df_train = df_train.reset_index(drop=True)\n",
    "df_dev = df_dev.reset_index(drop=True)"
   ]
  },
  {
   "cell_type": "code",
   "execution_count": 22,
   "metadata": {
    "execution": {
     "iopub.execute_input": "2021-06-11T21:28:59.741598Z",
     "iopub.status.busy": "2021-06-11T21:28:59.740751Z",
     "iopub.status.idle": "2021-06-11T21:28:59.744654Z",
     "shell.execute_reply": "2021-06-11T21:28:59.744223Z",
     "shell.execute_reply.started": "2021-06-11T21:15:57.867833Z"
    },
    "papermill": {
     "duration": 0.041357,
     "end_time": "2021-06-11T21:28:59.744771",
     "exception": false,
     "start_time": "2021-06-11T21:28:59.703414",
     "status": "completed"
    },
    "tags": []
   },
   "outputs": [
    {
     "data": {
      "text/html": [
       "<div>\n",
       "<style scoped>\n",
       "    .dataframe tbody tr th:only-of-type {\n",
       "        vertical-align: middle;\n",
       "    }\n",
       "\n",
       "    .dataframe tbody tr th {\n",
       "        vertical-align: top;\n",
       "    }\n",
       "\n",
       "    .dataframe thead th {\n",
       "        text-align: right;\n",
       "    }\n",
       "</style>\n",
       "<table border=\"1\" class=\"dataframe\">\n",
       "  <thead>\n",
       "    <tr style=\"text-align: right;\">\n",
       "      <th></th>\n",
       "      <th>Text</th>\n",
       "      <th>ID</th>\n",
       "      <th>anger</th>\n",
       "      <th>fear</th>\n",
       "      <th>joy</th>\n",
       "      <th>sadness</th>\n",
       "      <th>surprise</th>\n",
       "    </tr>\n",
       "  </thead>\n",
       "  <tbody>\n",
       "    <tr>\n",
       "      <th>0</th>\n",
       "      <td>WHY THE FUCK IS BAYLESS ISOING</td>\n",
       "      <td>eezlygj</td>\n",
       "      <td>1</td>\n",
       "      <td>0</td>\n",
       "      <td>0</td>\n",
       "      <td>0</td>\n",
       "      <td>0</td>\n",
       "    </tr>\n",
       "    <tr>\n",
       "      <th>1</th>\n",
       "      <td>To make her feel threatened</td>\n",
       "      <td>ed7ypvh</td>\n",
       "      <td>0</td>\n",
       "      <td>1</td>\n",
       "      <td>0</td>\n",
       "      <td>0</td>\n",
       "      <td>0</td>\n",
       "    </tr>\n",
       "    <tr>\n",
       "      <th>2</th>\n",
       "      <td>Dirty Southern Wankers</td>\n",
       "      <td>ed0bdzj</td>\n",
       "      <td>1</td>\n",
       "      <td>0</td>\n",
       "      <td>0</td>\n",
       "      <td>0</td>\n",
       "      <td>0</td>\n",
       "    </tr>\n",
       "    <tr>\n",
       "      <th>3</th>\n",
       "      <td>OmG pEyToN iSn'T gOoD eNoUgH tO hElP uS iN tHe...</td>\n",
       "      <td>edvnz26</td>\n",
       "      <td>0</td>\n",
       "      <td>0</td>\n",
       "      <td>0</td>\n",
       "      <td>0</td>\n",
       "      <td>1</td>\n",
       "    </tr>\n",
       "    <tr>\n",
       "      <th>4</th>\n",
       "      <td>Yes I heard abt the f bombs! That has to be wh...</td>\n",
       "      <td>ee3b6wu</td>\n",
       "      <td>0</td>\n",
       "      <td>0</td>\n",
       "      <td>1</td>\n",
       "      <td>0</td>\n",
       "      <td>0</td>\n",
       "    </tr>\n",
       "  </tbody>\n",
       "</table>\n",
       "</div>"
      ],
      "text/plain": [
       "                                                Text       ID  anger  fear  \\\n",
       "0                     WHY THE FUCK IS BAYLESS ISOING  eezlygj      1     0   \n",
       "1                        To make her feel threatened  ed7ypvh      0     1   \n",
       "2                             Dirty Southern Wankers  ed0bdzj      1     0   \n",
       "3  OmG pEyToN iSn'T gOoD eNoUgH tO hElP uS iN tHe...  edvnz26      0     0   \n",
       "4  Yes I heard abt the f bombs! That has to be wh...  ee3b6wu      0     0   \n",
       "\n",
       "   joy  sadness  surprise  \n",
       "0    0        0         0  \n",
       "1    0        0         0  \n",
       "2    0        0         0  \n",
       "3    0        0         1  \n",
       "4    1        0         0  "
      ]
     },
     "execution_count": 22,
     "metadata": {},
     "output_type": "execute_result"
    }
   ],
   "source": [
    "df_train.head()"
   ]
  },
  {
   "cell_type": "code",
   "execution_count": 23,
   "metadata": {
    "execution": {
     "iopub.execute_input": "2021-06-11T21:28:59.805866Z",
     "iopub.status.busy": "2021-06-11T21:28:59.805059Z",
     "iopub.status.idle": "2021-06-11T21:28:59.809485Z",
     "shell.execute_reply": "2021-06-11T21:28:59.808874Z",
     "shell.execute_reply.started": "2021-06-11T21:15:57.889795Z"
    },
    "papermill": {
     "duration": 0.036698,
     "end_time": "2021-06-11T21:28:59.809641",
     "exception": false,
     "start_time": "2021-06-11T21:28:59.772943",
     "status": "completed"
    },
    "tags": []
   },
   "outputs": [
    {
     "name": "stdout",
     "output_type": "stream",
     "text": [
      "(28427, 7)\n",
      "(3564, 7)\n"
     ]
    }
   ],
   "source": [
    "print(df_train.shape)\n",
    "print(df_dev.shape)"
   ]
  },
  {
   "cell_type": "code",
   "execution_count": 24,
   "metadata": {
    "execution": {
     "iopub.execute_input": "2021-06-11T21:28:59.918208Z",
     "iopub.status.busy": "2021-06-11T21:28:59.917621Z",
     "iopub.status.idle": "2021-06-11T21:28:59.920440Z",
     "shell.execute_reply": "2021-06-11T21:28:59.920815Z",
     "shell.execute_reply.started": "2021-06-11T21:15:57.900528Z"
    },
    "papermill": {
     "duration": 0.081819,
     "end_time": "2021-06-11T21:28:59.920963",
     "exception": false,
     "start_time": "2021-06-11T21:28:59.839144",
     "status": "completed"
    },
    "tags": []
   },
   "outputs": [],
   "source": [
    "device = 'cuda' if torch.cuda.is_available() else 'cpu'"
   ]
  },
  {
   "cell_type": "code",
   "execution_count": 25,
   "metadata": {
    "execution": {
     "iopub.execute_input": "2021-06-11T21:28:59.983349Z",
     "iopub.status.busy": "2021-06-11T21:28:59.982541Z",
     "iopub.status.idle": "2021-06-11T21:29:03.832972Z",
     "shell.execute_reply": "2021-06-11T21:29:03.832524Z",
     "shell.execute_reply.started": "2021-06-11T21:15:57.952876Z"
    },
    "papermill": {
     "duration": 3.883275,
     "end_time": "2021-06-11T21:29:03.833116",
     "exception": false,
     "start_time": "2021-06-11T21:28:59.949841",
     "status": "completed"
    },
    "tags": []
   },
   "outputs": [
    {
     "data": {
      "application/vnd.jupyter.widget-view+json": {
       "model_id": "16cc1961bf18433bb435a71338f12266",
       "version_major": 2,
       "version_minor": 0
      },
      "text/plain": [
       "Downloading:   0%|          | 0.00/481 [00:00<?, ?B/s]"
      ]
     },
     "metadata": {},
     "output_type": "display_data"
    },
    {
     "data": {
      "application/vnd.jupyter.widget-view+json": {
       "model_id": "f7899098307a42fc916ed8dc0e70e723",
       "version_major": 2,
       "version_minor": 0
      },
      "text/plain": [
       "Downloading:   0%|          | 0.00/899k [00:00<?, ?B/s]"
      ]
     },
     "metadata": {},
     "output_type": "display_data"
    },
    {
     "data": {
      "application/vnd.jupyter.widget-view+json": {
       "model_id": "bdd54c0b61874212bf3e85a7d9dc86ef",
       "version_major": 2,
       "version_minor": 0
      },
      "text/plain": [
       "Downloading:   0%|          | 0.00/456k [00:00<?, ?B/s]"
      ]
     },
     "metadata": {},
     "output_type": "display_data"
    },
    {
     "data": {
      "application/vnd.jupyter.widget-view+json": {
       "model_id": "3f9dd0cdb85b4db79c7f62560baba19b",
       "version_major": 2,
       "version_minor": 0
      },
      "text/plain": [
       "Downloading:   0%|          | 0.00/1.36M [00:00<?, ?B/s]"
      ]
     },
     "metadata": {},
     "output_type": "display_data"
    }
   ],
   "source": [
    "# Sections of config\n",
    "\n",
    "# Defining some key variables that will be used later on in the training\n",
    "MAX_LEN = 200\n",
    "TRAIN_BATCH_SIZE = 64\n",
    "VALID_BATCH_SIZE = 64\n",
    "EPOCHS = 10\n",
    "LEARNING_RATE = 2e-5\n",
    "tokenizer = AutoTokenizer.from_pretrained('roberta-base')"
   ]
  },
  {
   "cell_type": "code",
   "execution_count": 26,
   "metadata": {
    "execution": {
     "iopub.execute_input": "2021-06-11T21:29:03.899026Z",
     "iopub.status.busy": "2021-06-11T21:29:03.898373Z",
     "iopub.status.idle": "2021-06-11T21:29:03.901878Z",
     "shell.execute_reply": "2021-06-11T21:29:03.901458Z",
     "shell.execute_reply.started": "2021-06-11T21:16:02.470288Z"
    },
    "papermill": {
     "duration": 0.038399,
     "end_time": "2021-06-11T21:29:03.901991",
     "exception": false,
     "start_time": "2021-06-11T21:29:03.863592",
     "status": "completed"
    },
    "tags": []
   },
   "outputs": [
    {
     "data": {
      "text/plain": [
       "['anger', 'fear', 'joy', 'sadness', 'surprise']"
      ]
     },
     "execution_count": 26,
     "metadata": {},
     "output_type": "execute_result"
    }
   ],
   "source": [
    "target_cols = [col for col in df_train.columns if col not in ['Text', 'ID']]\n",
    "target_cols"
   ]
  },
  {
   "cell_type": "code",
   "execution_count": 27,
   "metadata": {
    "execution": {
     "iopub.execute_input": "2021-06-11T21:29:03.970360Z",
     "iopub.status.busy": "2021-06-11T21:29:03.969642Z",
     "iopub.status.idle": "2021-06-11T21:29:03.972064Z",
     "shell.execute_reply": "2021-06-11T21:29:03.972485Z",
     "shell.execute_reply.started": "2021-06-11T21:16:02.482242Z"
    },
    "papermill": {
     "duration": 0.040433,
     "end_time": "2021-06-11T21:29:03.972621",
     "exception": false,
     "start_time": "2021-06-11T21:29:03.932188",
     "status": "completed"
    },
    "tags": []
   },
   "outputs": [],
   "source": [
    "class BERTDataset(Dataset):\n",
    "    def __init__(self, df, tokenizer, max_len):\n",
    "        self.df = df\n",
    "        self.max_len = max_len\n",
    "        self.text = df.Text\n",
    "        self.tokenizer = tokenizer\n",
    "        self.targets = df[target_cols].values\n",
    "        \n",
    "    def __len__(self):\n",
    "        return len(self.df)\n",
    "    \n",
    "    def __getitem__(self, index):\n",
    "        text = self.text[index]\n",
    "        inputs = self.tokenizer.encode_plus(\n",
    "            text,\n",
    "            truncation=True,\n",
    "            add_special_tokens=True,\n",
    "            max_length=self.max_len,\n",
    "            padding='max_length',\n",
    "            return_token_type_ids=True\n",
    "        )\n",
    "        ids = inputs['input_ids']\n",
    "        mask = inputs['attention_mask']\n",
    "        token_type_ids = inputs[\"token_type_ids\"]\n",
    "        \n",
    "        return {\n",
    "            'ids': torch.tensor(ids, dtype=torch.long),\n",
    "            'mask': torch.tensor(mask, dtype=torch.long),\n",
    "            'token_type_ids': torch.tensor(token_type_ids, dtype=torch.long),\n",
    "            'targets': torch.tensor(self.targets[index], dtype=torch.float)\n",
    "        }"
   ]
  },
  {
   "cell_type": "code",
   "execution_count": 28,
   "metadata": {
    "execution": {
     "iopub.execute_input": "2021-06-11T21:29:04.039477Z",
     "iopub.status.busy": "2021-06-11T21:29:04.038789Z",
     "iopub.status.idle": "2021-06-11T21:29:04.041702Z",
     "shell.execute_reply": "2021-06-11T21:29:04.041303Z",
     "shell.execute_reply.started": "2021-06-11T21:16:02.497075Z"
    },
    "papermill": {
     "duration": 0.038889,
     "end_time": "2021-06-11T21:29:04.041812",
     "exception": false,
     "start_time": "2021-06-11T21:29:04.002923",
     "status": "completed"
    },
    "tags": []
   },
   "outputs": [],
   "source": [
    "train_dataset = BERTDataset(df_train, tokenizer, MAX_LEN)\n",
    "valid_dataset = BERTDataset(df_dev, tokenizer, MAX_LEN)"
   ]
  },
  {
   "cell_type": "code",
   "execution_count": 29,
   "metadata": {
    "execution": {
     "iopub.execute_input": "2021-06-11T21:29:04.107128Z",
     "iopub.status.busy": "2021-06-11T21:29:04.106269Z",
     "iopub.status.idle": "2021-06-11T21:29:04.109641Z",
     "shell.execute_reply": "2021-06-11T21:29:04.108492Z",
     "shell.execute_reply.started": "2021-06-11T21:16:02.517518Z"
    },
    "papermill": {
     "duration": 0.037963,
     "end_time": "2021-06-11T21:29:04.109787",
     "exception": false,
     "start_time": "2021-06-11T21:29:04.071824",
     "status": "completed"
    },
    "tags": []
   },
   "outputs": [],
   "source": [
    "train_loader = DataLoader(train_dataset, batch_size=TRAIN_BATCH_SIZE, \n",
    "                          num_workers=4, shuffle=True, pin_memory=True)\n",
    "valid_loader = DataLoader(valid_dataset, batch_size=VALID_BATCH_SIZE, \n",
    "                          num_workers=4, shuffle=False, pin_memory=True)"
   ]
  },
  {
   "cell_type": "code",
   "execution_count": 30,
   "metadata": {
    "execution": {
     "iopub.execute_input": "2021-06-11T21:29:04.213689Z",
     "iopub.status.busy": "2021-06-11T21:29:04.212831Z",
     "iopub.status.idle": "2021-06-11T21:29:34.755358Z",
     "shell.execute_reply": "2021-06-11T21:29:34.754889Z",
     "shell.execute_reply.started": "2021-06-11T21:16:02.529823Z"
    },
    "papermill": {
     "duration": 30.597708,
     "end_time": "2021-06-11T21:29:34.755506",
     "exception": false,
     "start_time": "2021-06-11T21:29:04.157798",
     "status": "completed"
    },
    "tags": []
   },
   "outputs": [
    {
     "data": {
      "application/vnd.jupyter.widget-view+json": {
       "model_id": "aa82322e33564bee8ca8259014992b03",
       "version_major": 2,
       "version_minor": 0
      },
      "text/plain": [
       "Downloading:   0%|          | 0.00/501M [00:00<?, ?B/s]"
      ]
     },
     "metadata": {},
     "output_type": "display_data"
    }
   ],
   "source": [
    "# Creating the customized model, by adding a drop out and a dense layer on top of distil bert to get the final output for the model. \n",
    "\n",
    "class BERTClass(torch.nn.Module):\n",
    "    def __init__(self):\n",
    "        super(BERTClass, self).__init__()\n",
    "        self.roberta = AutoModel.from_pretrained('roberta-base')\n",
    "#         self.l2 = torch.nn.Dropout(0.3)\n",
    "        self.fc = torch.nn.Linear(768,5)\n",
    "    \n",
    "    def forward(self, ids, mask, token_type_ids):\n",
    "        _, features = self.roberta(ids, attention_mask = mask, token_type_ids = token_type_ids, return_dict=False)\n",
    "#         output_2 = self.l2(output_1)\n",
    "        output = self.fc(features)\n",
    "        return output\n",
    "\n",
    "model = BERTClass()\n",
    "model.to(device);"
   ]
  },
  {
   "cell_type": "code",
   "execution_count": 31,
   "metadata": {
    "execution": {
     "iopub.execute_input": "2021-06-11T21:29:34.822035Z",
     "iopub.status.busy": "2021-06-11T21:29:34.821247Z",
     "iopub.status.idle": "2021-06-11T21:29:34.824023Z",
     "shell.execute_reply": "2021-06-11T21:29:34.823616Z",
     "shell.execute_reply.started": "2021-06-11T21:16:29.734879Z"
    },
    "papermill": {
     "duration": 0.037499,
     "end_time": "2021-06-11T21:29:34.824140",
     "exception": false,
     "start_time": "2021-06-11T21:29:34.786641",
     "status": "completed"
    },
    "tags": []
   },
   "outputs": [],
   "source": [
    "def loss_fn(outputs, targets):\n",
    "    return torch.nn.BCEWithLogitsLoss()(outputs, targets)"
   ]
  },
  {
   "cell_type": "code",
   "execution_count": 32,
   "metadata": {
    "execution": {
     "iopub.execute_input": "2021-06-11T21:29:34.893041Z",
     "iopub.status.busy": "2021-06-11T21:29:34.892281Z",
     "iopub.status.idle": "2021-06-11T21:29:34.895452Z",
     "shell.execute_reply": "2021-06-11T21:29:34.895036Z",
     "shell.execute_reply.started": "2021-06-11T21:16:29.758386Z"
    },
    "papermill": {
     "duration": 0.040684,
     "end_time": "2021-06-11T21:29:34.895572",
     "exception": false,
     "start_time": "2021-06-11T21:29:34.854888",
     "status": "completed"
    },
    "tags": []
   },
   "outputs": [],
   "source": [
    "optimizer = AdamW(params =  model.parameters(), lr=LEARNING_RATE, weight_decay=1e-6)"
   ]
  },
  {
   "cell_type": "code",
   "execution_count": 33,
   "metadata": {
    "execution": {
     "iopub.execute_input": "2021-06-11T21:29:34.964971Z",
     "iopub.status.busy": "2021-06-11T21:29:34.964177Z",
     "iopub.status.idle": "2021-06-11T21:29:34.967044Z",
     "shell.execute_reply": "2021-06-11T21:29:34.966645Z",
     "shell.execute_reply.started": "2021-06-11T21:16:29.783347Z"
    },
    "papermill": {
     "duration": 0.040297,
     "end_time": "2021-06-11T21:29:34.967157",
     "exception": false,
     "start_time": "2021-06-11T21:29:34.926860",
     "status": "completed"
    },
    "tags": []
   },
   "outputs": [],
   "source": [
    "def train(epoch):\n",
    "    model.train()\n",
    "    for _,data in enumerate(train_loader, 0):\n",
    "        ids = data['ids'].to(device, dtype = torch.long)\n",
    "        mask = data['mask'].to(device, dtype = torch.long)\n",
    "        token_type_ids = data['token_type_ids'].to(device, dtype = torch.long)\n",
    "        targets = data['targets'].to(device, dtype = torch.float)\n",
    "\n",
    "        outputs = model(ids, mask, token_type_ids)\n",
    "\n",
    "        loss = loss_fn(outputs, targets)\n",
    "        if _%500 == 0:\n",
    "            print(f'Epoch: {epoch}, Loss:  {loss.item()}')\n",
    "        \n",
    "        loss.backward()\n",
    "        optimizer.step()\n",
    "        optimizer.zero_grad()"
   ]
  },
  {
   "cell_type": "code",
   "execution_count": 34,
   "metadata": {
    "execution": {
     "iopub.execute_input": "2021-06-11T21:29:35.034748Z",
     "iopub.status.busy": "2021-06-11T21:29:35.034127Z",
     "iopub.status.idle": "2021-06-11T22:55:55.458732Z",
     "shell.execute_reply": "2021-06-11T22:55:55.456890Z",
     "shell.execute_reply.started": "2021-06-11T21:16:29.807005Z"
    },
    "papermill": {
     "duration": 5180.461011,
     "end_time": "2021-06-11T22:55:55.458904",
     "exception": false,
     "start_time": "2021-06-11T21:29:34.997893",
     "status": "completed"
    },
    "tags": []
   },
   "outputs": [
    {
     "name": "stdout",
     "output_type": "stream",
     "text": [
      "Epoch: 0, Loss:  0.6937628984451294\n",
      "Epoch: 1, Loss:  0.24931326508522034\n",
      "Epoch: 2, Loss:  0.18285022675991058\n",
      "Epoch: 3, Loss:  0.14513608813285828\n",
      "Epoch: 4, Loss:  0.06125611066818237\n",
      "Epoch: 5, Loss:  0.10432153940200806\n",
      "Epoch: 6, Loss:  0.0886898785829544\n",
      "Epoch: 7, Loss:  0.03366171568632126\n",
      "Epoch: 8, Loss:  0.047100868076086044\n",
      "Epoch: 9, Loss:  0.046813804656267166\n"
     ]
    }
   ],
   "source": [
    "for epoch in range(EPOCHS):\n",
    "    train(epoch)"
   ]
  },
  {
   "cell_type": "code",
   "execution_count": 35,
   "metadata": {
    "execution": {
     "iopub.execute_input": "2021-06-11T22:55:55.537606Z",
     "iopub.status.busy": "2021-06-11T22:55:55.536753Z",
     "iopub.status.idle": "2021-06-11T22:55:55.539488Z",
     "shell.execute_reply": "2021-06-11T22:55:55.539049Z"
    },
    "papermill": {
     "duration": 0.045056,
     "end_time": "2021-06-11T22:55:55.539608",
     "exception": false,
     "start_time": "2021-06-11T22:55:55.494552",
     "status": "completed"
    },
    "tags": []
   },
   "outputs": [],
   "source": [
    "def validation():\n",
    "    model.eval()\n",
    "    fin_targets=[]\n",
    "    fin_outputs=[]\n",
    "    with torch.no_grad():\n",
    "        for _, data in enumerate(valid_loader, 0):\n",
    "            ids = data['ids'].to(device, dtype = torch.long)\n",
    "            mask = data['mask'].to(device, dtype = torch.long)\n",
    "            token_type_ids = data['token_type_ids'].to(device, dtype = torch.long)\n",
    "            targets = data['targets'].to(device, dtype = torch.float)\n",
    "            outputs = model(ids, mask, token_type_ids)\n",
    "            fin_targets.extend(targets.cpu().detach().numpy().tolist())\n",
    "            fin_outputs.extend(torch.sigmoid(outputs).cpu().detach().numpy().tolist())\n",
    "    return fin_outputs, fin_targets"
   ]
  },
  {
   "cell_type": "code",
   "execution_count": 36,
   "metadata": {
    "execution": {
     "iopub.execute_input": "2021-06-11T22:55:55.614823Z",
     "iopub.status.busy": "2021-06-11T22:55:55.613934Z",
     "iopub.status.idle": "2021-06-11T22:56:17.386070Z",
     "shell.execute_reply": "2021-06-11T22:56:17.384740Z"
    },
    "papermill": {
     "duration": 21.811836,
     "end_time": "2021-06-11T22:56:17.386222",
     "exception": false,
     "start_time": "2021-06-11T22:55:55.574386",
     "status": "completed"
    },
    "tags": []
   },
   "outputs": [
    {
     "name": "stdout",
     "output_type": "stream",
     "text": [
      "Accuracy Score = 0.7539281705948373\n",
      "F1 Score (Micro) = 0.825405055087492\n",
      "F1 Score (Macro) = 0.7490829466850484\n"
     ]
    }
   ],
   "source": [
    "outputs, targets = validation()\n",
    "outputs = np.array(outputs) >= 0.5\n",
    "accuracy = metrics.accuracy_score(targets, outputs)\n",
    "f1_score_micro = metrics.f1_score(targets, outputs, average='micro')\n",
    "f1_score_macro = metrics.f1_score(targets, outputs, average='macro')\n",
    "print(f\"Accuracy Score = {accuracy}\")\n",
    "print(f\"F1 Score (Micro) = {f1_score_micro}\")\n",
    "print(f\"F1 Score (Macro) = {f1_score_macro}\")"
   ]
  },
  {
   "cell_type": "code",
   "execution_count": 37,
   "metadata": {
    "execution": {
     "iopub.execute_input": "2021-06-11T22:56:17.462139Z",
     "iopub.status.busy": "2021-06-11T22:56:17.461345Z",
     "iopub.status.idle": "2021-06-11T22:56:19.174725Z",
     "shell.execute_reply": "2021-06-11T22:56:19.173956Z"
    },
    "papermill": {
     "duration": 1.75423,
     "end_time": "2021-06-11T22:56:19.174876",
     "exception": false,
     "start_time": "2021-06-11T22:56:17.420646",
     "status": "completed"
    },
    "tags": []
   },
   "outputs": [],
   "source": [
    "torch.save(model.state_dict(), 'model.bin')"
   ]
  },
  {
   "cell_type": "code",
   "execution_count": 38,
   "metadata": {
    "execution": {
     "iopub.execute_input": "2021-06-11T22:56:19.247957Z",
     "iopub.status.busy": "2021-06-11T22:56:19.247427Z",
     "iopub.status.idle": "2021-06-11T22:56:19.251223Z",
     "shell.execute_reply": "2021-06-11T22:56:19.250779Z"
    },
    "papermill": {
     "duration": 0.041352,
     "end_time": "2021-06-11T22:56:19.251350",
     "exception": false,
     "start_time": "2021-06-11T22:56:19.209998",
     "status": "completed"
    },
    "tags": []
   },
   "outputs": [],
   "source": [
    "# from transformers import AutoConfig, AutoModel"
   ]
  },
  {
   "cell_type": "code",
   "execution_count": 39,
   "metadata": {
    "execution": {
     "iopub.execute_input": "2021-06-11T22:56:19.323111Z",
     "iopub.status.busy": "2021-06-11T22:56:19.322360Z",
     "iopub.status.idle": "2021-06-11T22:56:19.325260Z",
     "shell.execute_reply": "2021-06-11T22:56:19.324836Z"
    },
    "papermill": {
     "duration": 0.040399,
     "end_time": "2021-06-11T22:56:19.325386",
     "exception": false,
     "start_time": "2021-06-11T22:56:19.284987",
     "status": "completed"
    },
    "tags": []
   },
   "outputs": [],
   "source": [
    "#config = AutoConfig.from_pretrained('bert-base-uncased')\n",
    "#model =  AutoModel.from_config(config)"
   ]
  },
  {
   "cell_type": "code",
   "execution_count": 40,
   "metadata": {
    "execution": {
     "iopub.execute_input": "2021-06-11T22:56:19.400879Z",
     "iopub.status.busy": "2021-06-11T22:56:19.400120Z",
     "iopub.status.idle": "2021-06-11T22:56:19.403066Z",
     "shell.execute_reply": "2021-06-11T22:56:19.402515Z"
    },
    "papermill": {
     "duration": 0.042212,
     "end_time": "2021-06-11T22:56:19.403191",
     "exception": false,
     "start_time": "2021-06-11T22:56:19.360979",
     "status": "completed"
    },
    "tags": []
   },
   "outputs": [],
   "source": [
    "#PATH = \"\"\n",
    "#model.load_state_dict(torch.load(PATH))"
   ]
  },
  {
   "cell_type": "code",
   "execution_count": null,
   "metadata": {
    "papermill": {
     "duration": 0.042397,
     "end_time": "2021-06-11T22:56:19.481160",
     "exception": false,
     "start_time": "2021-06-11T22:56:19.438763",
     "status": "completed"
    },
    "tags": []
   },
   "outputs": [],
   "source": []
  }
 ],
 "metadata": {
  "kernelspec": {
   "display_name": "Python 3",
   "language": "python",
   "name": "python3"
  },
  "language_info": {
   "codemirror_mode": {
    "name": "ipython",
    "version": 3
   },
   "file_extension": ".py",
   "mimetype": "text/x-python",
   "name": "python",
   "nbconvert_exporter": "python",
   "pygments_lexer": "ipython3",
   "version": "3.7.9"
  },
  "papermill": {
   "default_parameters": {},
   "duration": 5258.830687,
   "end_time": "2021-06-11T22:56:20.628315",
   "environment_variables": {},
   "exception": null,
   "input_path": "__notebook__.ipynb",
   "output_path": "__notebook__.ipynb",
   "parameters": {},
   "start_time": "2021-06-11T21:28:41.797628",
   "version": "2.2.2"
  },
  "widgets": {
   "application/vnd.jupyter.widget-state+json": {
    "state": {
     "04d76f1a0f5f4d0bb5fa4d5ec692203e": {
      "model_module": "@jupyter-widgets/controls",
      "model_module_version": "1.5.0",
      "model_name": "DescriptionStyleModel",
      "state": {
       "_model_module": "@jupyter-widgets/controls",
       "_model_module_version": "1.5.0",
       "_model_name": "DescriptionStyleModel",
       "_view_count": null,
       "_view_module": "@jupyter-widgets/base",
       "_view_module_version": "1.2.0",
       "_view_name": "StyleView",
       "description_width": ""
      }
     },
     "0abc832d021f4d0dbfba8cc3d9302632": {
      "model_module": "@jupyter-widgets/base",
      "model_module_version": "1.2.0",
      "model_name": "LayoutModel",
      "state": {
       "_model_module": "@jupyter-widgets/base",
       "_model_module_version": "1.2.0",
       "_model_name": "LayoutModel",
       "_view_count": null,
       "_view_module": "@jupyter-widgets/base",
       "_view_module_version": "1.2.0",
       "_view_name": "LayoutView",
       "align_content": null,
       "align_items": null,
       "align_self": null,
       "border": null,
       "bottom": null,
       "display": null,
       "flex": null,
       "flex_flow": null,
       "grid_area": null,
       "grid_auto_columns": null,
       "grid_auto_flow": null,
       "grid_auto_rows": null,
       "grid_column": null,
       "grid_gap": null,
       "grid_row": null,
       "grid_template_areas": null,
       "grid_template_columns": null,
       "grid_template_rows": null,
       "height": null,
       "justify_content": null,
       "justify_items": null,
       "left": null,
       "margin": null,
       "max_height": null,
       "max_width": null,
       "min_height": null,
       "min_width": null,
       "object_fit": null,
       "object_position": null,
       "order": null,
       "overflow": null,
       "overflow_x": null,
       "overflow_y": null,
       "padding": null,
       "right": null,
       "top": null,
       "visibility": null,
       "width": null
      }
     },
     "16cc1961bf18433bb435a71338f12266": {
      "model_module": "@jupyter-widgets/controls",
      "model_module_version": "1.5.0",
      "model_name": "HBoxModel",
      "state": {
       "_dom_classes": [],
       "_model_module": "@jupyter-widgets/controls",
       "_model_module_version": "1.5.0",
       "_model_name": "HBoxModel",
       "_view_count": null,
       "_view_module": "@jupyter-widgets/controls",
       "_view_module_version": "1.5.0",
       "_view_name": "HBoxView",
       "box_style": "",
       "children": [
        "IPY_MODEL_2da11901c49647e99e83ee6883a31386",
        "IPY_MODEL_e842ab91d71949818f0d357a123b630e",
        "IPY_MODEL_49e51138784d45b5929ad7102e3a9cb2"
       ],
       "layout": "IPY_MODEL_6ecdf437c2944ad5bb26ff9430e54cbb"
      }
     },
     "1c5a57b70cd04c1fa4c8a31216437d86": {
      "model_module": "@jupyter-widgets/base",
      "model_module_version": "1.2.0",
      "model_name": "LayoutModel",
      "state": {
       "_model_module": "@jupyter-widgets/base",
       "_model_module_version": "1.2.0",
       "_model_name": "LayoutModel",
       "_view_count": null,
       "_view_module": "@jupyter-widgets/base",
       "_view_module_version": "1.2.0",
       "_view_name": "LayoutView",
       "align_content": null,
       "align_items": null,
       "align_self": null,
       "border": null,
       "bottom": null,
       "display": null,
       "flex": null,
       "flex_flow": null,
       "grid_area": null,
       "grid_auto_columns": null,
       "grid_auto_flow": null,
       "grid_auto_rows": null,
       "grid_column": null,
       "grid_gap": null,
       "grid_row": null,
       "grid_template_areas": null,
       "grid_template_columns": null,
       "grid_template_rows": null,
       "height": null,
       "justify_content": null,
       "justify_items": null,
       "left": null,
       "margin": null,
       "max_height": null,
       "max_width": null,
       "min_height": null,
       "min_width": null,
       "object_fit": null,
       "object_position": null,
       "order": null,
       "overflow": null,
       "overflow_x": null,
       "overflow_y": null,
       "padding": null,
       "right": null,
       "top": null,
       "visibility": null,
       "width": null
      }
     },
     "2153f2a6b3c4447a8c96adfa2ff4bfc3": {
      "model_module": "@jupyter-widgets/controls",
      "model_module_version": "1.5.0",
      "model_name": "FloatProgressModel",
      "state": {
       "_dom_classes": [],
       "_model_module": "@jupyter-widgets/controls",
       "_model_module_version": "1.5.0",
       "_model_name": "FloatProgressModel",
       "_view_count": null,
       "_view_module": "@jupyter-widgets/controls",
       "_view_module_version": "1.5.0",
       "_view_name": "ProgressView",
       "bar_style": "success",
       "description": "",
       "description_tooltip": null,
       "layout": "IPY_MODEL_fc7b58a48fa14077b855abbb9386e0ea",
       "max": 456318.0,
       "min": 0.0,
       "orientation": "horizontal",
       "style": "IPY_MODEL_4b5f3181f1c94872b3c2744d6185f363",
       "value": 456318.0
      }
     },
     "2be383312bd4484ea55ec759b32026fb": {
      "model_module": "@jupyter-widgets/controls",
      "model_module_version": "1.5.0",
      "model_name": "DescriptionStyleModel",
      "state": {
       "_model_module": "@jupyter-widgets/controls",
       "_model_module_version": "1.5.0",
       "_model_name": "DescriptionStyleModel",
       "_view_count": null,
       "_view_module": "@jupyter-widgets/base",
       "_view_module_version": "1.2.0",
       "_view_name": "StyleView",
       "description_width": ""
      }
     },
     "2da11901c49647e99e83ee6883a31386": {
      "model_module": "@jupyter-widgets/controls",
      "model_module_version": "1.5.0",
      "model_name": "HTMLModel",
      "state": {
       "_dom_classes": [],
       "_model_module": "@jupyter-widgets/controls",
       "_model_module_version": "1.5.0",
       "_model_name": "HTMLModel",
       "_view_count": null,
       "_view_module": "@jupyter-widgets/controls",
       "_view_module_version": "1.5.0",
       "_view_name": "HTMLView",
       "description": "",
       "description_tooltip": null,
       "layout": "IPY_MODEL_1c5a57b70cd04c1fa4c8a31216437d86",
       "placeholder": "​",
       "style": "IPY_MODEL_52d0ea9af355478ab25f4d83c6649a71",
       "value": "Downloading: 100%"
      }
     },
     "2fcfdccf072249b5a69e401e990cb895": {
      "model_module": "@jupyter-widgets/controls",
      "model_module_version": "1.5.0",
      "model_name": "HTMLModel",
      "state": {
       "_dom_classes": [],
       "_model_module": "@jupyter-widgets/controls",
       "_model_module_version": "1.5.0",
       "_model_name": "HTMLModel",
       "_view_count": null,
       "_view_module": "@jupyter-widgets/controls",
       "_view_module_version": "1.5.0",
       "_view_name": "HTMLView",
       "description": "",
       "description_tooltip": null,
       "layout": "IPY_MODEL_68597584e7cc4e53b64ef36e98c2c60c",
       "placeholder": "​",
       "style": "IPY_MODEL_d3b0b7b85b654153b899a9b7115f4c01",
       "value": " 899k/899k [00:00&lt;00:00, 1.34MB/s]"
      }
     },
     "3760016458474e8c9563941d53f64063": {
      "model_module": "@jupyter-widgets/base",
      "model_module_version": "1.2.0",
      "model_name": "LayoutModel",
      "state": {
       "_model_module": "@jupyter-widgets/base",
       "_model_module_version": "1.2.0",
       "_model_name": "LayoutModel",
       "_view_count": null,
       "_view_module": "@jupyter-widgets/base",
       "_view_module_version": "1.2.0",
       "_view_name": "LayoutView",
       "align_content": null,
       "align_items": null,
       "align_self": null,
       "border": null,
       "bottom": null,
       "display": null,
       "flex": null,
       "flex_flow": null,
       "grid_area": null,
       "grid_auto_columns": null,
       "grid_auto_flow": null,
       "grid_auto_rows": null,
       "grid_column": null,
       "grid_gap": null,
       "grid_row": null,
       "grid_template_areas": null,
       "grid_template_columns": null,
       "grid_template_rows": null,
       "height": null,
       "justify_content": null,
       "justify_items": null,
       "left": null,
       "margin": null,
       "max_height": null,
       "max_width": null,
       "min_height": null,
       "min_width": null,
       "object_fit": null,
       "object_position": null,
       "order": null,
       "overflow": null,
       "overflow_x": null,
       "overflow_y": null,
       "padding": null,
       "right": null,
       "top": null,
       "visibility": null,
       "width": null
      }
     },
     "3dfd50fd149a42e1922f36f3b10ce164": {
      "model_module": "@jupyter-widgets/controls",
      "model_module_version": "1.5.0",
      "model_name": "HTMLModel",
      "state": {
       "_dom_classes": [],
       "_model_module": "@jupyter-widgets/controls",
       "_model_module_version": "1.5.0",
       "_model_name": "HTMLModel",
       "_view_count": null,
       "_view_module": "@jupyter-widgets/controls",
       "_view_module_version": "1.5.0",
       "_view_name": "HTMLView",
       "description": "",
       "description_tooltip": null,
       "layout": "IPY_MODEL_551d6ef2ff404dc684fb175bddd8c263",
       "placeholder": "​",
       "style": "IPY_MODEL_bbd4963dcead481384d751c016c0b33f",
       "value": "Downloading: 100%"
      }
     },
     "3f9dd0cdb85b4db79c7f62560baba19b": {
      "model_module": "@jupyter-widgets/controls",
      "model_module_version": "1.5.0",
      "model_name": "HBoxModel",
      "state": {
       "_dom_classes": [],
       "_model_module": "@jupyter-widgets/controls",
       "_model_module_version": "1.5.0",
       "_model_name": "HBoxModel",
       "_view_count": null,
       "_view_module": "@jupyter-widgets/controls",
       "_view_module_version": "1.5.0",
       "_view_name": "HBoxView",
       "box_style": "",
       "children": [
        "IPY_MODEL_fa7fff5facf540b48b3dc85534c89b1c",
        "IPY_MODEL_7b10318f1d1e43c4990cafcfe1c4cc0f",
        "IPY_MODEL_acf78abf0ac040efbfc3c85238872185"
       ],
       "layout": "IPY_MODEL_8116309409a748f09b8e1f9e779eca06"
      }
     },
     "3ff0bbcc524a4073948079647016ea2e": {
      "model_module": "@jupyter-widgets/controls",
      "model_module_version": "1.5.0",
      "model_name": "DescriptionStyleModel",
      "state": {
       "_model_module": "@jupyter-widgets/controls",
       "_model_module_version": "1.5.0",
       "_model_name": "DescriptionStyleModel",
       "_view_count": null,
       "_view_module": "@jupyter-widgets/base",
       "_view_module_version": "1.2.0",
       "_view_name": "StyleView",
       "description_width": ""
      }
     },
     "49e51138784d45b5929ad7102e3a9cb2": {
      "model_module": "@jupyter-widgets/controls",
      "model_module_version": "1.5.0",
      "model_name": "HTMLModel",
      "state": {
       "_dom_classes": [],
       "_model_module": "@jupyter-widgets/controls",
       "_model_module_version": "1.5.0",
       "_model_name": "HTMLModel",
       "_view_count": null,
       "_view_module": "@jupyter-widgets/controls",
       "_view_module_version": "1.5.0",
       "_view_name": "HTMLView",
       "description": "",
       "description_tooltip": null,
       "layout": "IPY_MODEL_587dc573cfe84c7ebeb9c0462c707e67",
       "placeholder": "​",
       "style": "IPY_MODEL_5f766d5ac8ae4edebf99a6d7d4af6a15",
       "value": " 481/481 [00:00&lt;00:00, 16.5kB/s]"
      }
     },
     "4b5f3181f1c94872b3c2744d6185f363": {
      "model_module": "@jupyter-widgets/controls",
      "model_module_version": "1.5.0",
      "model_name": "ProgressStyleModel",
      "state": {
       "_model_module": "@jupyter-widgets/controls",
       "_model_module_version": "1.5.0",
       "_model_name": "ProgressStyleModel",
       "_view_count": null,
       "_view_module": "@jupyter-widgets/base",
       "_view_module_version": "1.2.0",
       "_view_name": "StyleView",
       "bar_color": null,
       "description_width": ""
      }
     },
     "4c73f82ed97a4a1da34f3ba51ac3b020": {
      "model_module": "@jupyter-widgets/base",
      "model_module_version": "1.2.0",
      "model_name": "LayoutModel",
      "state": {
       "_model_module": "@jupyter-widgets/base",
       "_model_module_version": "1.2.0",
       "_model_name": "LayoutModel",
       "_view_count": null,
       "_view_module": "@jupyter-widgets/base",
       "_view_module_version": "1.2.0",
       "_view_name": "LayoutView",
       "align_content": null,
       "align_items": null,
       "align_self": null,
       "border": null,
       "bottom": null,
       "display": null,
       "flex": null,
       "flex_flow": null,
       "grid_area": null,
       "grid_auto_columns": null,
       "grid_auto_flow": null,
       "grid_auto_rows": null,
       "grid_column": null,
       "grid_gap": null,
       "grid_row": null,
       "grid_template_areas": null,
       "grid_template_columns": null,
       "grid_template_rows": null,
       "height": null,
       "justify_content": null,
       "justify_items": null,
       "left": null,
       "margin": null,
       "max_height": null,
       "max_width": null,
       "min_height": null,
       "min_width": null,
       "object_fit": null,
       "object_position": null,
       "order": null,
       "overflow": null,
       "overflow_x": null,
       "overflow_y": null,
       "padding": null,
       "right": null,
       "top": null,
       "visibility": null,
       "width": null
      }
     },
     "52d0ea9af355478ab25f4d83c6649a71": {
      "model_module": "@jupyter-widgets/controls",
      "model_module_version": "1.5.0",
      "model_name": "DescriptionStyleModel",
      "state": {
       "_model_module": "@jupyter-widgets/controls",
       "_model_module_version": "1.5.0",
       "_model_name": "DescriptionStyleModel",
       "_view_count": null,
       "_view_module": "@jupyter-widgets/base",
       "_view_module_version": "1.2.0",
       "_view_name": "StyleView",
       "description_width": ""
      }
     },
     "551d6ef2ff404dc684fb175bddd8c263": {
      "model_module": "@jupyter-widgets/base",
      "model_module_version": "1.2.0",
      "model_name": "LayoutModel",
      "state": {
       "_model_module": "@jupyter-widgets/base",
       "_model_module_version": "1.2.0",
       "_model_name": "LayoutModel",
       "_view_count": null,
       "_view_module": "@jupyter-widgets/base",
       "_view_module_version": "1.2.0",
       "_view_name": "LayoutView",
       "align_content": null,
       "align_items": null,
       "align_self": null,
       "border": null,
       "bottom": null,
       "display": null,
       "flex": null,
       "flex_flow": null,
       "grid_area": null,
       "grid_auto_columns": null,
       "grid_auto_flow": null,
       "grid_auto_rows": null,
       "grid_column": null,
       "grid_gap": null,
       "grid_row": null,
       "grid_template_areas": null,
       "grid_template_columns": null,
       "grid_template_rows": null,
       "height": null,
       "justify_content": null,
       "justify_items": null,
       "left": null,
       "margin": null,
       "max_height": null,
       "max_width": null,
       "min_height": null,
       "min_width": null,
       "object_fit": null,
       "object_position": null,
       "order": null,
       "overflow": null,
       "overflow_x": null,
       "overflow_y": null,
       "padding": null,
       "right": null,
       "top": null,
       "visibility": null,
       "width": null
      }
     },
     "5563a52e71584bc6a28f106240ec191a": {
      "model_module": "@jupyter-widgets/controls",
      "model_module_version": "1.5.0",
      "model_name": "DescriptionStyleModel",
      "state": {
       "_model_module": "@jupyter-widgets/controls",
       "_model_module_version": "1.5.0",
       "_model_name": "DescriptionStyleModel",
       "_view_count": null,
       "_view_module": "@jupyter-widgets/base",
       "_view_module_version": "1.2.0",
       "_view_name": "StyleView",
       "description_width": ""
      }
     },
     "587dc573cfe84c7ebeb9c0462c707e67": {
      "model_module": "@jupyter-widgets/base",
      "model_module_version": "1.2.0",
      "model_name": "LayoutModel",
      "state": {
       "_model_module": "@jupyter-widgets/base",
       "_model_module_version": "1.2.0",
       "_model_name": "LayoutModel",
       "_view_count": null,
       "_view_module": "@jupyter-widgets/base",
       "_view_module_version": "1.2.0",
       "_view_name": "LayoutView",
       "align_content": null,
       "align_items": null,
       "align_self": null,
       "border": null,
       "bottom": null,
       "display": null,
       "flex": null,
       "flex_flow": null,
       "grid_area": null,
       "grid_auto_columns": null,
       "grid_auto_flow": null,
       "grid_auto_rows": null,
       "grid_column": null,
       "grid_gap": null,
       "grid_row": null,
       "grid_template_areas": null,
       "grid_template_columns": null,
       "grid_template_rows": null,
       "height": null,
       "justify_content": null,
       "justify_items": null,
       "left": null,
       "margin": null,
       "max_height": null,
       "max_width": null,
       "min_height": null,
       "min_width": null,
       "object_fit": null,
       "object_position": null,
       "order": null,
       "overflow": null,
       "overflow_x": null,
       "overflow_y": null,
       "padding": null,
       "right": null,
       "top": null,
       "visibility": null,
       "width": null
      }
     },
     "5d4f6f9033dd42c5b2f0b3c9e97f294d": {
      "model_module": "@jupyter-widgets/base",
      "model_module_version": "1.2.0",
      "model_name": "LayoutModel",
      "state": {
       "_model_module": "@jupyter-widgets/base",
       "_model_module_version": "1.2.0",
       "_model_name": "LayoutModel",
       "_view_count": null,
       "_view_module": "@jupyter-widgets/base",
       "_view_module_version": "1.2.0",
       "_view_name": "LayoutView",
       "align_content": null,
       "align_items": null,
       "align_self": null,
       "border": null,
       "bottom": null,
       "display": null,
       "flex": null,
       "flex_flow": null,
       "grid_area": null,
       "grid_auto_columns": null,
       "grid_auto_flow": null,
       "grid_auto_rows": null,
       "grid_column": null,
       "grid_gap": null,
       "grid_row": null,
       "grid_template_areas": null,
       "grid_template_columns": null,
       "grid_template_rows": null,
       "height": null,
       "justify_content": null,
       "justify_items": null,
       "left": null,
       "margin": null,
       "max_height": null,
       "max_width": null,
       "min_height": null,
       "min_width": null,
       "object_fit": null,
       "object_position": null,
       "order": null,
       "overflow": null,
       "overflow_x": null,
       "overflow_y": null,
       "padding": null,
       "right": null,
       "top": null,
       "visibility": null,
       "width": null
      }
     },
     "5f766d5ac8ae4edebf99a6d7d4af6a15": {
      "model_module": "@jupyter-widgets/controls",
      "model_module_version": "1.5.0",
      "model_name": "DescriptionStyleModel",
      "state": {
       "_model_module": "@jupyter-widgets/controls",
       "_model_module_version": "1.5.0",
       "_model_name": "DescriptionStyleModel",
       "_view_count": null,
       "_view_module": "@jupyter-widgets/base",
       "_view_module_version": "1.2.0",
       "_view_name": "StyleView",
       "description_width": ""
      }
     },
     "6760cf1565e040f497b6676ffee0abf2": {
      "model_module": "@jupyter-widgets/controls",
      "model_module_version": "1.5.0",
      "model_name": "FloatProgressModel",
      "state": {
       "_dom_classes": [],
       "_model_module": "@jupyter-widgets/controls",
       "_model_module_version": "1.5.0",
       "_model_name": "FloatProgressModel",
       "_view_count": null,
       "_view_module": "@jupyter-widgets/controls",
       "_view_module_version": "1.5.0",
       "_view_name": "ProgressView",
       "bar_style": "success",
       "description": "",
       "description_tooltip": null,
       "layout": "IPY_MODEL_c105b5823b69406db1ed866c8f764464",
       "max": 501200538.0,
       "min": 0.0,
       "orientation": "horizontal",
       "style": "IPY_MODEL_a2747a947edb4c43a363417d2a20deda",
       "value": 501200538.0
      }
     },
     "68597584e7cc4e53b64ef36e98c2c60c": {
      "model_module": "@jupyter-widgets/base",
      "model_module_version": "1.2.0",
      "model_name": "LayoutModel",
      "state": {
       "_model_module": "@jupyter-widgets/base",
       "_model_module_version": "1.2.0",
       "_model_name": "LayoutModel",
       "_view_count": null,
       "_view_module": "@jupyter-widgets/base",
       "_view_module_version": "1.2.0",
       "_view_name": "LayoutView",
       "align_content": null,
       "align_items": null,
       "align_self": null,
       "border": null,
       "bottom": null,
       "display": null,
       "flex": null,
       "flex_flow": null,
       "grid_area": null,
       "grid_auto_columns": null,
       "grid_auto_flow": null,
       "grid_auto_rows": null,
       "grid_column": null,
       "grid_gap": null,
       "grid_row": null,
       "grid_template_areas": null,
       "grid_template_columns": null,
       "grid_template_rows": null,
       "height": null,
       "justify_content": null,
       "justify_items": null,
       "left": null,
       "margin": null,
       "max_height": null,
       "max_width": null,
       "min_height": null,
       "min_width": null,
       "object_fit": null,
       "object_position": null,
       "order": null,
       "overflow": null,
       "overflow_x": null,
       "overflow_y": null,
       "padding": null,
       "right": null,
       "top": null,
       "visibility": null,
       "width": null
      }
     },
     "6966fd3969744936affb17d91e03ae7b": {
      "model_module": "@jupyter-widgets/base",
      "model_module_version": "1.2.0",
      "model_name": "LayoutModel",
      "state": {
       "_model_module": "@jupyter-widgets/base",
       "_model_module_version": "1.2.0",
       "_model_name": "LayoutModel",
       "_view_count": null,
       "_view_module": "@jupyter-widgets/base",
       "_view_module_version": "1.2.0",
       "_view_name": "LayoutView",
       "align_content": null,
       "align_items": null,
       "align_self": null,
       "border": null,
       "bottom": null,
       "display": null,
       "flex": null,
       "flex_flow": null,
       "grid_area": null,
       "grid_auto_columns": null,
       "grid_auto_flow": null,
       "grid_auto_rows": null,
       "grid_column": null,
       "grid_gap": null,
       "grid_row": null,
       "grid_template_areas": null,
       "grid_template_columns": null,
       "grid_template_rows": null,
       "height": null,
       "justify_content": null,
       "justify_items": null,
       "left": null,
       "margin": null,
       "max_height": null,
       "max_width": null,
       "min_height": null,
       "min_width": null,
       "object_fit": null,
       "object_position": null,
       "order": null,
       "overflow": null,
       "overflow_x": null,
       "overflow_y": null,
       "padding": null,
       "right": null,
       "top": null,
       "visibility": null,
       "width": null
      }
     },
     "6ecdf437c2944ad5bb26ff9430e54cbb": {
      "model_module": "@jupyter-widgets/base",
      "model_module_version": "1.2.0",
      "model_name": "LayoutModel",
      "state": {
       "_model_module": "@jupyter-widgets/base",
       "_model_module_version": "1.2.0",
       "_model_name": "LayoutModel",
       "_view_count": null,
       "_view_module": "@jupyter-widgets/base",
       "_view_module_version": "1.2.0",
       "_view_name": "LayoutView",
       "align_content": null,
       "align_items": null,
       "align_self": null,
       "border": null,
       "bottom": null,
       "display": null,
       "flex": null,
       "flex_flow": null,
       "grid_area": null,
       "grid_auto_columns": null,
       "grid_auto_flow": null,
       "grid_auto_rows": null,
       "grid_column": null,
       "grid_gap": null,
       "grid_row": null,
       "grid_template_areas": null,
       "grid_template_columns": null,
       "grid_template_rows": null,
       "height": null,
       "justify_content": null,
       "justify_items": null,
       "left": null,
       "margin": null,
       "max_height": null,
       "max_width": null,
       "min_height": null,
       "min_width": null,
       "object_fit": null,
       "object_position": null,
       "order": null,
       "overflow": null,
       "overflow_x": null,
       "overflow_y": null,
       "padding": null,
       "right": null,
       "top": null,
       "visibility": null,
       "width": null
      }
     },
     "7b10318f1d1e43c4990cafcfe1c4cc0f": {
      "model_module": "@jupyter-widgets/controls",
      "model_module_version": "1.5.0",
      "model_name": "FloatProgressModel",
      "state": {
       "_dom_classes": [],
       "_model_module": "@jupyter-widgets/controls",
       "_model_module_version": "1.5.0",
       "_model_name": "FloatProgressModel",
       "_view_count": null,
       "_view_module": "@jupyter-widgets/controls",
       "_view_module_version": "1.5.0",
       "_view_name": "ProgressView",
       "bar_style": "success",
       "description": "",
       "description_tooltip": null,
       "layout": "IPY_MODEL_e3d1c1f796d74c5aa0bda7c9fbd11459",
       "max": 1355863.0,
       "min": 0.0,
       "orientation": "horizontal",
       "style": "IPY_MODEL_99880c9a4d99499788d2f8f8add1709a",
       "value": 1355863.0
      }
     },
     "7edf340893dc45c5b150031b2ef5444b": {
      "model_module": "@jupyter-widgets/base",
      "model_module_version": "1.2.0",
      "model_name": "LayoutModel",
      "state": {
       "_model_module": "@jupyter-widgets/base",
       "_model_module_version": "1.2.0",
       "_model_name": "LayoutModel",
       "_view_count": null,
       "_view_module": "@jupyter-widgets/base",
       "_view_module_version": "1.2.0",
       "_view_name": "LayoutView",
       "align_content": null,
       "align_items": null,
       "align_self": null,
       "border": null,
       "bottom": null,
       "display": null,
       "flex": null,
       "flex_flow": null,
       "grid_area": null,
       "grid_auto_columns": null,
       "grid_auto_flow": null,
       "grid_auto_rows": null,
       "grid_column": null,
       "grid_gap": null,
       "grid_row": null,
       "grid_template_areas": null,
       "grid_template_columns": null,
       "grid_template_rows": null,
       "height": null,
       "justify_content": null,
       "justify_items": null,
       "left": null,
       "margin": null,
       "max_height": null,
       "max_width": null,
       "min_height": null,
       "min_width": null,
       "object_fit": null,
       "object_position": null,
       "order": null,
       "overflow": null,
       "overflow_x": null,
       "overflow_y": null,
       "padding": null,
       "right": null,
       "top": null,
       "visibility": null,
       "width": null
      }
     },
     "8116309409a748f09b8e1f9e779eca06": {
      "model_module": "@jupyter-widgets/base",
      "model_module_version": "1.2.0",
      "model_name": "LayoutModel",
      "state": {
       "_model_module": "@jupyter-widgets/base",
       "_model_module_version": "1.2.0",
       "_model_name": "LayoutModel",
       "_view_count": null,
       "_view_module": "@jupyter-widgets/base",
       "_view_module_version": "1.2.0",
       "_view_name": "LayoutView",
       "align_content": null,
       "align_items": null,
       "align_self": null,
       "border": null,
       "bottom": null,
       "display": null,
       "flex": null,
       "flex_flow": null,
       "grid_area": null,
       "grid_auto_columns": null,
       "grid_auto_flow": null,
       "grid_auto_rows": null,
       "grid_column": null,
       "grid_gap": null,
       "grid_row": null,
       "grid_template_areas": null,
       "grid_template_columns": null,
       "grid_template_rows": null,
       "height": null,
       "justify_content": null,
       "justify_items": null,
       "left": null,
       "margin": null,
       "max_height": null,
       "max_width": null,
       "min_height": null,
       "min_width": null,
       "object_fit": null,
       "object_position": null,
       "order": null,
       "overflow": null,
       "overflow_x": null,
       "overflow_y": null,
       "padding": null,
       "right": null,
       "top": null,
       "visibility": null,
       "width": null
      }
     },
     "87260f31066a485f82556a40257d76e1": {
      "model_module": "@jupyter-widgets/controls",
      "model_module_version": "1.5.0",
      "model_name": "DescriptionStyleModel",
      "state": {
       "_model_module": "@jupyter-widgets/controls",
       "_model_module_version": "1.5.0",
       "_model_name": "DescriptionStyleModel",
       "_view_count": null,
       "_view_module": "@jupyter-widgets/base",
       "_view_module_version": "1.2.0",
       "_view_name": "StyleView",
       "description_width": ""
      }
     },
     "87a524ccb3e2484bb34de31e4844aa23": {
      "model_module": "@jupyter-widgets/controls",
      "model_module_version": "1.5.0",
      "model_name": "DescriptionStyleModel",
      "state": {
       "_model_module": "@jupyter-widgets/controls",
       "_model_module_version": "1.5.0",
       "_model_name": "DescriptionStyleModel",
       "_view_count": null,
       "_view_module": "@jupyter-widgets/base",
       "_view_module_version": "1.2.0",
       "_view_name": "StyleView",
       "description_width": ""
      }
     },
     "92801342212c4b178fa951ed0d60a8d0": {
      "model_module": "@jupyter-widgets/base",
      "model_module_version": "1.2.0",
      "model_name": "LayoutModel",
      "state": {
       "_model_module": "@jupyter-widgets/base",
       "_model_module_version": "1.2.0",
       "_model_name": "LayoutModel",
       "_view_count": null,
       "_view_module": "@jupyter-widgets/base",
       "_view_module_version": "1.2.0",
       "_view_name": "LayoutView",
       "align_content": null,
       "align_items": null,
       "align_self": null,
       "border": null,
       "bottom": null,
       "display": null,
       "flex": null,
       "flex_flow": null,
       "grid_area": null,
       "grid_auto_columns": null,
       "grid_auto_flow": null,
       "grid_auto_rows": null,
       "grid_column": null,
       "grid_gap": null,
       "grid_row": null,
       "grid_template_areas": null,
       "grid_template_columns": null,
       "grid_template_rows": null,
       "height": null,
       "justify_content": null,
       "justify_items": null,
       "left": null,
       "margin": null,
       "max_height": null,
       "max_width": null,
       "min_height": null,
       "min_width": null,
       "object_fit": null,
       "object_position": null,
       "order": null,
       "overflow": null,
       "overflow_x": null,
       "overflow_y": null,
       "padding": null,
       "right": null,
       "top": null,
       "visibility": null,
       "width": null
      }
     },
     "99880c9a4d99499788d2f8f8add1709a": {
      "model_module": "@jupyter-widgets/controls",
      "model_module_version": "1.5.0",
      "model_name": "ProgressStyleModel",
      "state": {
       "_model_module": "@jupyter-widgets/controls",
       "_model_module_version": "1.5.0",
       "_model_name": "ProgressStyleModel",
       "_view_count": null,
       "_view_module": "@jupyter-widgets/base",
       "_view_module_version": "1.2.0",
       "_view_name": "StyleView",
       "bar_color": null,
       "description_width": ""
      }
     },
     "a2586a8a55e94516b6ed55b68f905843": {
      "model_module": "@jupyter-widgets/base",
      "model_module_version": "1.2.0",
      "model_name": "LayoutModel",
      "state": {
       "_model_module": "@jupyter-widgets/base",
       "_model_module_version": "1.2.0",
       "_model_name": "LayoutModel",
       "_view_count": null,
       "_view_module": "@jupyter-widgets/base",
       "_view_module_version": "1.2.0",
       "_view_name": "LayoutView",
       "align_content": null,
       "align_items": null,
       "align_self": null,
       "border": null,
       "bottom": null,
       "display": null,
       "flex": null,
       "flex_flow": null,
       "grid_area": null,
       "grid_auto_columns": null,
       "grid_auto_flow": null,
       "grid_auto_rows": null,
       "grid_column": null,
       "grid_gap": null,
       "grid_row": null,
       "grid_template_areas": null,
       "grid_template_columns": null,
       "grid_template_rows": null,
       "height": null,
       "justify_content": null,
       "justify_items": null,
       "left": null,
       "margin": null,
       "max_height": null,
       "max_width": null,
       "min_height": null,
       "min_width": null,
       "object_fit": null,
       "object_position": null,
       "order": null,
       "overflow": null,
       "overflow_x": null,
       "overflow_y": null,
       "padding": null,
       "right": null,
       "top": null,
       "visibility": null,
       "width": null
      }
     },
     "a2747a947edb4c43a363417d2a20deda": {
      "model_module": "@jupyter-widgets/controls",
      "model_module_version": "1.5.0",
      "model_name": "ProgressStyleModel",
      "state": {
       "_model_module": "@jupyter-widgets/controls",
       "_model_module_version": "1.5.0",
       "_model_name": "ProgressStyleModel",
       "_view_count": null,
       "_view_module": "@jupyter-widgets/base",
       "_view_module_version": "1.2.0",
       "_view_name": "StyleView",
       "bar_color": null,
       "description_width": ""
      }
     },
     "aa82322e33564bee8ca8259014992b03": {
      "model_module": "@jupyter-widgets/controls",
      "model_module_version": "1.5.0",
      "model_name": "HBoxModel",
      "state": {
       "_dom_classes": [],
       "_model_module": "@jupyter-widgets/controls",
       "_model_module_version": "1.5.0",
       "_model_name": "HBoxModel",
       "_view_count": null,
       "_view_module": "@jupyter-widgets/controls",
       "_view_module_version": "1.5.0",
       "_view_name": "HBoxView",
       "box_style": "",
       "children": [
        "IPY_MODEL_3dfd50fd149a42e1922f36f3b10ce164",
        "IPY_MODEL_6760cf1565e040f497b6676ffee0abf2",
        "IPY_MODEL_e1ffc51872b34fd796971d7f4b2bb626"
       ],
       "layout": "IPY_MODEL_6966fd3969744936affb17d91e03ae7b"
      }
     },
     "aaf0b043552244fda74d1f1e515d32eb": {
      "model_module": "@jupyter-widgets/base",
      "model_module_version": "1.2.0",
      "model_name": "LayoutModel",
      "state": {
       "_model_module": "@jupyter-widgets/base",
       "_model_module_version": "1.2.0",
       "_model_name": "LayoutModel",
       "_view_count": null,
       "_view_module": "@jupyter-widgets/base",
       "_view_module_version": "1.2.0",
       "_view_name": "LayoutView",
       "align_content": null,
       "align_items": null,
       "align_self": null,
       "border": null,
       "bottom": null,
       "display": null,
       "flex": null,
       "flex_flow": null,
       "grid_area": null,
       "grid_auto_columns": null,
       "grid_auto_flow": null,
       "grid_auto_rows": null,
       "grid_column": null,
       "grid_gap": null,
       "grid_row": null,
       "grid_template_areas": null,
       "grid_template_columns": null,
       "grid_template_rows": null,
       "height": null,
       "justify_content": null,
       "justify_items": null,
       "left": null,
       "margin": null,
       "max_height": null,
       "max_width": null,
       "min_height": null,
       "min_width": null,
       "object_fit": null,
       "object_position": null,
       "order": null,
       "overflow": null,
       "overflow_x": null,
       "overflow_y": null,
       "padding": null,
       "right": null,
       "top": null,
       "visibility": null,
       "width": null
      }
     },
     "aafd7d8710eb4186ae945df77a5d4ade": {
      "model_module": "@jupyter-widgets/controls",
      "model_module_version": "1.5.0",
      "model_name": "HTMLModel",
      "state": {
       "_dom_classes": [],
       "_model_module": "@jupyter-widgets/controls",
       "_model_module_version": "1.5.0",
       "_model_name": "HTMLModel",
       "_view_count": null,
       "_view_module": "@jupyter-widgets/controls",
       "_view_module_version": "1.5.0",
       "_view_name": "HTMLView",
       "description": "",
       "description_tooltip": null,
       "layout": "IPY_MODEL_3760016458474e8c9563941d53f64063",
       "placeholder": "​",
       "style": "IPY_MODEL_2be383312bd4484ea55ec759b32026fb",
       "value": "Downloading: 100%"
      }
     },
     "abf6e29174c948fab1af85e84ab89fa3": {
      "model_module": "@jupyter-widgets/controls",
      "model_module_version": "1.5.0",
      "model_name": "HTMLModel",
      "state": {
       "_dom_classes": [],
       "_model_module": "@jupyter-widgets/controls",
       "_model_module_version": "1.5.0",
       "_model_name": "HTMLModel",
       "_view_count": null,
       "_view_module": "@jupyter-widgets/controls",
       "_view_module_version": "1.5.0",
       "_view_name": "HTMLView",
       "description": "",
       "description_tooltip": null,
       "layout": "IPY_MODEL_5d4f6f9033dd42c5b2f0b3c9e97f294d",
       "placeholder": "​",
       "style": "IPY_MODEL_5563a52e71584bc6a28f106240ec191a",
       "value": "Downloading: 100%"
      }
     },
     "acf78abf0ac040efbfc3c85238872185": {
      "model_module": "@jupyter-widgets/controls",
      "model_module_version": "1.5.0",
      "model_name": "HTMLModel",
      "state": {
       "_dom_classes": [],
       "_model_module": "@jupyter-widgets/controls",
       "_model_module_version": "1.5.0",
       "_model_name": "HTMLModel",
       "_view_count": null,
       "_view_module": "@jupyter-widgets/controls",
       "_view_module_version": "1.5.0",
       "_view_name": "HTMLView",
       "description": "",
       "description_tooltip": null,
       "layout": "IPY_MODEL_a2586a8a55e94516b6ed55b68f905843",
       "placeholder": "​",
       "style": "IPY_MODEL_87260f31066a485f82556a40257d76e1",
       "value": " 1.36M/1.36M [00:00&lt;00:00, 3.38MB/s]"
      }
     },
     "ad7424bf8ba14adbb77e2a10f66ca6a9": {
      "model_module": "@jupyter-widgets/controls",
      "model_module_version": "1.5.0",
      "model_name": "ProgressStyleModel",
      "state": {
       "_model_module": "@jupyter-widgets/controls",
       "_model_module_version": "1.5.0",
       "_model_name": "ProgressStyleModel",
       "_view_count": null,
       "_view_module": "@jupyter-widgets/base",
       "_view_module_version": "1.2.0",
       "_view_name": "StyleView",
       "bar_color": null,
       "description_width": ""
      }
     },
     "b2eb3a9067a545be84c23639234504c6": {
      "model_module": "@jupyter-widgets/controls",
      "model_module_version": "1.5.0",
      "model_name": "ProgressStyleModel",
      "state": {
       "_model_module": "@jupyter-widgets/controls",
       "_model_module_version": "1.5.0",
       "_model_name": "ProgressStyleModel",
       "_view_count": null,
       "_view_module": "@jupyter-widgets/base",
       "_view_module_version": "1.2.0",
       "_view_name": "StyleView",
       "bar_color": null,
       "description_width": ""
      }
     },
     "bbd4963dcead481384d751c016c0b33f": {
      "model_module": "@jupyter-widgets/controls",
      "model_module_version": "1.5.0",
      "model_name": "DescriptionStyleModel",
      "state": {
       "_model_module": "@jupyter-widgets/controls",
       "_model_module_version": "1.5.0",
       "_model_name": "DescriptionStyleModel",
       "_view_count": null,
       "_view_module": "@jupyter-widgets/base",
       "_view_module_version": "1.2.0",
       "_view_name": "StyleView",
       "description_width": ""
      }
     },
     "bd92ca0c23794d42802a28682a3db07c": {
      "model_module": "@jupyter-widgets/base",
      "model_module_version": "1.2.0",
      "model_name": "LayoutModel",
      "state": {
       "_model_module": "@jupyter-widgets/base",
       "_model_module_version": "1.2.0",
       "_model_name": "LayoutModel",
       "_view_count": null,
       "_view_module": "@jupyter-widgets/base",
       "_view_module_version": "1.2.0",
       "_view_name": "LayoutView",
       "align_content": null,
       "align_items": null,
       "align_self": null,
       "border": null,
       "bottom": null,
       "display": null,
       "flex": null,
       "flex_flow": null,
       "grid_area": null,
       "grid_auto_columns": null,
       "grid_auto_flow": null,
       "grid_auto_rows": null,
       "grid_column": null,
       "grid_gap": null,
       "grid_row": null,
       "grid_template_areas": null,
       "grid_template_columns": null,
       "grid_template_rows": null,
       "height": null,
       "justify_content": null,
       "justify_items": null,
       "left": null,
       "margin": null,
       "max_height": null,
       "max_width": null,
       "min_height": null,
       "min_width": null,
       "object_fit": null,
       "object_position": null,
       "order": null,
       "overflow": null,
       "overflow_x": null,
       "overflow_y": null,
       "padding": null,
       "right": null,
       "top": null,
       "visibility": null,
       "width": null
      }
     },
     "bdd54c0b61874212bf3e85a7d9dc86ef": {
      "model_module": "@jupyter-widgets/controls",
      "model_module_version": "1.5.0",
      "model_name": "HBoxModel",
      "state": {
       "_dom_classes": [],
       "_model_module": "@jupyter-widgets/controls",
       "_model_module_version": "1.5.0",
       "_model_name": "HBoxModel",
       "_view_count": null,
       "_view_module": "@jupyter-widgets/controls",
       "_view_module_version": "1.5.0",
       "_view_name": "HBoxView",
       "box_style": "",
       "children": [
        "IPY_MODEL_abf6e29174c948fab1af85e84ab89fa3",
        "IPY_MODEL_2153f2a6b3c4447a8c96adfa2ff4bfc3",
        "IPY_MODEL_f1f87fa89c274b8fb5e12ec616df5346"
       ],
       "layout": "IPY_MODEL_be5281ca0e3c4963bcf954bfb529f0d3"
      }
     },
     "be5281ca0e3c4963bcf954bfb529f0d3": {
      "model_module": "@jupyter-widgets/base",
      "model_module_version": "1.2.0",
      "model_name": "LayoutModel",
      "state": {
       "_model_module": "@jupyter-widgets/base",
       "_model_module_version": "1.2.0",
       "_model_name": "LayoutModel",
       "_view_count": null,
       "_view_module": "@jupyter-widgets/base",
       "_view_module_version": "1.2.0",
       "_view_name": "LayoutView",
       "align_content": null,
       "align_items": null,
       "align_self": null,
       "border": null,
       "bottom": null,
       "display": null,
       "flex": null,
       "flex_flow": null,
       "grid_area": null,
       "grid_auto_columns": null,
       "grid_auto_flow": null,
       "grid_auto_rows": null,
       "grid_column": null,
       "grid_gap": null,
       "grid_row": null,
       "grid_template_areas": null,
       "grid_template_columns": null,
       "grid_template_rows": null,
       "height": null,
       "justify_content": null,
       "justify_items": null,
       "left": null,
       "margin": null,
       "max_height": null,
       "max_width": null,
       "min_height": null,
       "min_width": null,
       "object_fit": null,
       "object_position": null,
       "order": null,
       "overflow": null,
       "overflow_x": null,
       "overflow_y": null,
       "padding": null,
       "right": null,
       "top": null,
       "visibility": null,
       "width": null
      }
     },
     "c105b5823b69406db1ed866c8f764464": {
      "model_module": "@jupyter-widgets/base",
      "model_module_version": "1.2.0",
      "model_name": "LayoutModel",
      "state": {
       "_model_module": "@jupyter-widgets/base",
       "_model_module_version": "1.2.0",
       "_model_name": "LayoutModel",
       "_view_count": null,
       "_view_module": "@jupyter-widgets/base",
       "_view_module_version": "1.2.0",
       "_view_name": "LayoutView",
       "align_content": null,
       "align_items": null,
       "align_self": null,
       "border": null,
       "bottom": null,
       "display": null,
       "flex": null,
       "flex_flow": null,
       "grid_area": null,
       "grid_auto_columns": null,
       "grid_auto_flow": null,
       "grid_auto_rows": null,
       "grid_column": null,
       "grid_gap": null,
       "grid_row": null,
       "grid_template_areas": null,
       "grid_template_columns": null,
       "grid_template_rows": null,
       "height": null,
       "justify_content": null,
       "justify_items": null,
       "left": null,
       "margin": null,
       "max_height": null,
       "max_width": null,
       "min_height": null,
       "min_width": null,
       "object_fit": null,
       "object_position": null,
       "order": null,
       "overflow": null,
       "overflow_x": null,
       "overflow_y": null,
       "padding": null,
       "right": null,
       "top": null,
       "visibility": null,
       "width": null
      }
     },
     "ccae0a9e8b2849b5aa49219c371adaa3": {
      "model_module": "@jupyter-widgets/controls",
      "model_module_version": "1.5.0",
      "model_name": "FloatProgressModel",
      "state": {
       "_dom_classes": [],
       "_model_module": "@jupyter-widgets/controls",
       "_model_module_version": "1.5.0",
       "_model_name": "FloatProgressModel",
       "_view_count": null,
       "_view_module": "@jupyter-widgets/controls",
       "_view_module_version": "1.5.0",
       "_view_name": "ProgressView",
       "bar_style": "success",
       "description": "",
       "description_tooltip": null,
       "layout": "IPY_MODEL_0abc832d021f4d0dbfba8cc3d9302632",
       "max": 898823.0,
       "min": 0.0,
       "orientation": "horizontal",
       "style": "IPY_MODEL_b2eb3a9067a545be84c23639234504c6",
       "value": 898823.0
      }
     },
     "d3b0b7b85b654153b899a9b7115f4c01": {
      "model_module": "@jupyter-widgets/controls",
      "model_module_version": "1.5.0",
      "model_name": "DescriptionStyleModel",
      "state": {
       "_model_module": "@jupyter-widgets/controls",
       "_model_module_version": "1.5.0",
       "_model_name": "DescriptionStyleModel",
       "_view_count": null,
       "_view_module": "@jupyter-widgets/base",
       "_view_module_version": "1.2.0",
       "_view_name": "StyleView",
       "description_width": ""
      }
     },
     "e1ffc51872b34fd796971d7f4b2bb626": {
      "model_module": "@jupyter-widgets/controls",
      "model_module_version": "1.5.0",
      "model_name": "HTMLModel",
      "state": {
       "_dom_classes": [],
       "_model_module": "@jupyter-widgets/controls",
       "_model_module_version": "1.5.0",
       "_model_name": "HTMLModel",
       "_view_count": null,
       "_view_module": "@jupyter-widgets/controls",
       "_view_module_version": "1.5.0",
       "_view_name": "HTMLView",
       "description": "",
       "description_tooltip": null,
       "layout": "IPY_MODEL_bd92ca0c23794d42802a28682a3db07c",
       "placeholder": "​",
       "style": "IPY_MODEL_87a524ccb3e2484bb34de31e4844aa23",
       "value": " 501M/501M [00:22&lt;00:00, 23.4MB/s]"
      }
     },
     "e3d1c1f796d74c5aa0bda7c9fbd11459": {
      "model_module": "@jupyter-widgets/base",
      "model_module_version": "1.2.0",
      "model_name": "LayoutModel",
      "state": {
       "_model_module": "@jupyter-widgets/base",
       "_model_module_version": "1.2.0",
       "_model_name": "LayoutModel",
       "_view_count": null,
       "_view_module": "@jupyter-widgets/base",
       "_view_module_version": "1.2.0",
       "_view_name": "LayoutView",
       "align_content": null,
       "align_items": null,
       "align_self": null,
       "border": null,
       "bottom": null,
       "display": null,
       "flex": null,
       "flex_flow": null,
       "grid_area": null,
       "grid_auto_columns": null,
       "grid_auto_flow": null,
       "grid_auto_rows": null,
       "grid_column": null,
       "grid_gap": null,
       "grid_row": null,
       "grid_template_areas": null,
       "grid_template_columns": null,
       "grid_template_rows": null,
       "height": null,
       "justify_content": null,
       "justify_items": null,
       "left": null,
       "margin": null,
       "max_height": null,
       "max_width": null,
       "min_height": null,
       "min_width": null,
       "object_fit": null,
       "object_position": null,
       "order": null,
       "overflow": null,
       "overflow_x": null,
       "overflow_y": null,
       "padding": null,
       "right": null,
       "top": null,
       "visibility": null,
       "width": null
      }
     },
     "e842ab91d71949818f0d357a123b630e": {
      "model_module": "@jupyter-widgets/controls",
      "model_module_version": "1.5.0",
      "model_name": "FloatProgressModel",
      "state": {
       "_dom_classes": [],
       "_model_module": "@jupyter-widgets/controls",
       "_model_module_version": "1.5.0",
       "_model_name": "FloatProgressModel",
       "_view_count": null,
       "_view_module": "@jupyter-widgets/controls",
       "_view_module_version": "1.5.0",
       "_view_name": "ProgressView",
       "bar_style": "success",
       "description": "",
       "description_tooltip": null,
       "layout": "IPY_MODEL_92801342212c4b178fa951ed0d60a8d0",
       "max": 481.0,
       "min": 0.0,
       "orientation": "horizontal",
       "style": "IPY_MODEL_ad7424bf8ba14adbb77e2a10f66ca6a9",
       "value": 481.0
      }
     },
     "f1f87fa89c274b8fb5e12ec616df5346": {
      "model_module": "@jupyter-widgets/controls",
      "model_module_version": "1.5.0",
      "model_name": "HTMLModel",
      "state": {
       "_dom_classes": [],
       "_model_module": "@jupyter-widgets/controls",
       "_model_module_version": "1.5.0",
       "_model_name": "HTMLModel",
       "_view_count": null,
       "_view_module": "@jupyter-widgets/controls",
       "_view_module_version": "1.5.0",
       "_view_name": "HTMLView",
       "description": "",
       "description_tooltip": null,
       "layout": "IPY_MODEL_4c73f82ed97a4a1da34f3ba51ac3b020",
       "placeholder": "​",
       "style": "IPY_MODEL_04d76f1a0f5f4d0bb5fa4d5ec692203e",
       "value": " 456k/456k [00:00&lt;00:00, 1.19MB/s]"
      }
     },
     "f7899098307a42fc916ed8dc0e70e723": {
      "model_module": "@jupyter-widgets/controls",
      "model_module_version": "1.5.0",
      "model_name": "HBoxModel",
      "state": {
       "_dom_classes": [],
       "_model_module": "@jupyter-widgets/controls",
       "_model_module_version": "1.5.0",
       "_model_name": "HBoxModel",
       "_view_count": null,
       "_view_module": "@jupyter-widgets/controls",
       "_view_module_version": "1.5.0",
       "_view_name": "HBoxView",
       "box_style": "",
       "children": [
        "IPY_MODEL_aafd7d8710eb4186ae945df77a5d4ade",
        "IPY_MODEL_ccae0a9e8b2849b5aa49219c371adaa3",
        "IPY_MODEL_2fcfdccf072249b5a69e401e990cb895"
       ],
       "layout": "IPY_MODEL_7edf340893dc45c5b150031b2ef5444b"
      }
     },
     "fa7fff5facf540b48b3dc85534c89b1c": {
      "model_module": "@jupyter-widgets/controls",
      "model_module_version": "1.5.0",
      "model_name": "HTMLModel",
      "state": {
       "_dom_classes": [],
       "_model_module": "@jupyter-widgets/controls",
       "_model_module_version": "1.5.0",
       "_model_name": "HTMLModel",
       "_view_count": null,
       "_view_module": "@jupyter-widgets/controls",
       "_view_module_version": "1.5.0",
       "_view_name": "HTMLView",
       "description": "",
       "description_tooltip": null,
       "layout": "IPY_MODEL_aaf0b043552244fda74d1f1e515d32eb",
       "placeholder": "​",
       "style": "IPY_MODEL_3ff0bbcc524a4073948079647016ea2e",
       "value": "Downloading: 100%"
      }
     },
     "fc7b58a48fa14077b855abbb9386e0ea": {
      "model_module": "@jupyter-widgets/base",
      "model_module_version": "1.2.0",
      "model_name": "LayoutModel",
      "state": {
       "_model_module": "@jupyter-widgets/base",
       "_model_module_version": "1.2.0",
       "_model_name": "LayoutModel",
       "_view_count": null,
       "_view_module": "@jupyter-widgets/base",
       "_view_module_version": "1.2.0",
       "_view_name": "LayoutView",
       "align_content": null,
       "align_items": null,
       "align_self": null,
       "border": null,
       "bottom": null,
       "display": null,
       "flex": null,
       "flex_flow": null,
       "grid_area": null,
       "grid_auto_columns": null,
       "grid_auto_flow": null,
       "grid_auto_rows": null,
       "grid_column": null,
       "grid_gap": null,
       "grid_row": null,
       "grid_template_areas": null,
       "grid_template_columns": null,
       "grid_template_rows": null,
       "height": null,
       "justify_content": null,
       "justify_items": null,
       "left": null,
       "margin": null,
       "max_height": null,
       "max_width": null,
       "min_height": null,
       "min_width": null,
       "object_fit": null,
       "object_position": null,
       "order": null,
       "overflow": null,
       "overflow_x": null,
       "overflow_y": null,
       "padding": null,
       "right": null,
       "top": null,
       "visibility": null,
       "width": null
      }
     }
    },
    "version_major": 2,
    "version_minor": 0
   }
  }
 },
 "nbformat": 4,
 "nbformat_minor": 4
}
